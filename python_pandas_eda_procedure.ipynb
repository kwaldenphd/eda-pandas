{
  "cells": [
    {
      "cell_type": "markdown",
      "metadata": {
        "id": "view-in-github",
        "colab_type": "text"
      },
      "source": [
        "<a href=\"https://colab.research.google.com/github/kwaldenphd/eda-pandas/blob/main/python_pandas_eda_procedure.ipynb\" target=\"_parent\"><img src=\"https://colab.research.google.com/assets/colab-badge.svg\" alt=\"Open In Colab\"/></a>"
      ]
    },
    {
      "cell_type": "markdown",
      "source": [
        "# Data Wrangling in Pandas\n",
        "\n",
        "<a href=\"http://creativecommons.org/licenses/by-nc/4.0/\" rel=\"license\"><img style=\"border-width: 0;\" src=\"https://i.creativecommons.org/l/by-nc/4.0/88x31.png\" alt=\"Creative Commons License\" /></a>\n",
        "This tutorial is licensed under a <a href=\"http://creativecommons.org/licenses/by-nc/4.0/\" rel=\"license\">Creative Commons Attribution-NonCommercial 4.0 International License</a>."
      ],
      "metadata": {
        "id": "MvtxVO9MTgoB"
      }
    },
    {
      "cell_type": "markdown",
      "source": [
        "## Lab Goals\n",
        "\n",
        "This lab covers the basic of data wrangling and manipulation in Python using `pandas`. \n",
        "\n",
        "By the end of this lab, students will be able to:\n",
        "- Compute basic summary statistics in Python using `pandas`\n",
        "- Understand the basics of working with time series data in Python using `pandas`\n",
        "- Manipulate and reshape data using `pivot`, `melt`, `pivot_table`, `stack`, and `unstack`\n",
        "- Combining and joining datasets using `concat` and `merge`\n",
        "- Understand the basics of renaming, mapping, and reindexing structured data in Python using `pandas`\n"
      ],
      "metadata": {
        "id": "SD3vUUAkThXv"
      }
    },
    {
      "cell_type": "markdown",
      "source": [
        "## Acknowledgements\n",
        "\n",
        "Information and exercises in this lab are adapted from the following resources:\n",
        "- `pandas` package [\"Getting started\"](https://pandas.pydata.org/pandas-docs/stable/getting_started/intro_tutorials/) documentation.\n",
        "- Wes McKinney's [*Python for Data Analysis: Data Wrangling With pandas, Numpy, and IPython*](https://www.oreilly.com/library/view/python-for-data/9781491957653/) (O'Reilly, 2017)\n",
        "  * Chapter 5 \"Getting Started with pandas\" (125-168)\n",
        "  * Chapter 7 \"Data Cleaning and Preparation\" (195-224)\n",
        "  * Chapter 8 \"Data Wrangling: Join, Combine, and Reshape\" (225-256)\n",
        "  * Chapter 10 \"Data Aggregation and Group Operations\" (293-322)\n",
        "  \n",
        "All figures shown in this lab are from the `pandas` \"Getting Started\" tutorials."
      ],
      "metadata": {
        "id": "03uNnra1Tifh"
      }
    },
    {
      "cell_type": "markdown",
      "source": [
        "# Lab Notebook Template\n",
        "\n",
        "[Link to lab notebook template (Jupyter Notebook)](https://drive.google.com/file/d/1HeHBDEPGzLKpU62WQ1XTHGPWgY0plXDC/view?usp=sharing)"
      ],
      "metadata": {
        "id": "xU4o5wx4Tj3W"
      }
    },
    {
      "cell_type": "markdown",
      "source": [
        "# Data\n",
        "\n",
        "The following data files are used in this tutorial, with Google Drive links (ND users only) provided below:\n",
        "\n",
        "- [`air_quality_long.csv`](https://drive.google.com/file/d/1EuxBBHt3CGHwmo1BSnYQJE4jNWZvCkYE/view?usp=sharing)\n",
        "- [`air_quality_no2_long.csv`](https://drive.google.com/file/d/1kiaoN3X77AiDvp6_HTOQHStkXF0GkxBb/view?usp=sharing)\n",
        "- [`air_quality_no2.csv`](https://drive.google.com/file/d/1TY1sFXIcUfc1gVKKP47duNbY2dgk8Eda/view?usp=sharing)\n",
        "- [`air_quality_parameters.csv`](https://drive.google.com/file/d/1Dk81jCQZKLo8h51MPYye8aOkIqvC07yf/view?usp=sharing)\n",
        "- [`air_quality_pm25_long.csv`](https://drive.google.com/file/d/1CCd_mDQCXT1ThDphkcCSJpOR_ekZtTLO/view?usp=sharing)\n",
        "- [`air_quality_stations.csv`](https://drive.google.com/file/d/1H5cgILqFkQ9NlQdvjs0UWsJ0Mec-4Nmd/view?usp=sharing)\n",
        "- [`titanic.csv`](https://drive.google.com/file/d/1JDdM48mBYoH3JXC1HodXFq08kFOo_UBu/view?usp=sharing)\n",
        "\n",
        "You can also download the files in a compressed folder (`.zip`) [via Google Drive](https://drive.google.com/file/d/1sViAVYdgh2VfCuv0aiQvhLZjWHsCcPOy/view?usp=sharing).\n",
        "\n",
        "We can load this data in Python from GitHub URLs, rather than having to download files to our local computer (or upload to Google CoLab):"
      ],
      "metadata": {
        "id": "OMg-PHeDTlBm"
      }
    },
    {
      "cell_type": "code",
      "source": [
        "# import pandas\n",
        "import pandas as pd\n",
        "\n",
        "# load titanic data from url\n",
        "titanic = pd.read_csv(\"https://raw.githubusercontent.com/kwaldenphd/pandas-intro/main/data/titanic.csv\")\n",
        "\n",
        "# load air quality data from url\n",
        "air_quality = pd.read_csv(\"https://raw.githubusercontent.com/kwaldenphd/eda-pandas/main/data/air_quality_no2.csv\", index_col=0, parse_dates=True)\n",
        "\n",
        "# load air quality long data from url\n",
        "air_quality_long = pd.read_csv(\"https://raw.githubusercontent.com/kwaldenphd/eda-pandas/main/data/air_quality_long.csv\", parse_dates = True)\n",
        "\n",
        "# load no2 observation data (long) from url\n",
        "air_quality_no2_long = pd.read_csv(\"https://raw.githubusercontent.com/kwaldenphd/eda-pandas/main/data/air_quality_no2_long.csv\", parse_dates=True)\n",
        "\n",
        "# load pm25 data from url\n",
        "air_quality_pm25 = pd.read_csv(\"https://raw.githubusercontent.com/kwaldenphd/eda-pandas/main/data/air_quality_pm25_long.csv\", parse_dates=True)\n",
        "\n",
        "# load coordinates data from url\n",
        "stations_coord = pd.read_csv(\"https://raw.githubusercontent.com/kwaldenphd/eda-pandas/main/data/air_quality_stations.csv\")\n",
        "\n",
        "# load parameter data from url\n",
        "air_quality_parameters = pd.read_csv(\"https://raw.githubusercontent.com/kwaldenphd/eda-pandas/main/data/air_quality_parameters.csv\")"
      ],
      "metadata": {
        "id": "_HGHmzOVTmVj"
      },
      "execution_count": null,
      "outputs": []
    },
    {
      "cell_type": "markdown",
      "source": [
        "We can also load the files using file names.\n"
      ],
      "metadata": {
        "id": "4Ainxf8qTnUQ"
      }
    },
    {
      "cell_type": "code",
      "source": [
        "# import pandas\n",
        "import pandas as pd\n",
        "\n",
        "# load titanic data from file\n",
        "titanic = pd.read_csv(\"titanic.csv\")\n",
        "\n",
        "# load air quality data from file\n",
        "air_quality = pd.read_csv(\"air_quality_no2.csv\", index_col=0, parse_dates=True)\n",
        "\n",
        "# load no2 observation data (long) from file\n",
        "air_quality_no2_long = pd.read_csv(\"air_quality_no2_long.csv\", parse_dates=True)\n",
        "\n",
        "# load pm25 data from file\n",
        "air_quality_pm25 = pd.read_csv(\"air_quality_pm25_long.csv\", parse_dates=True)\n",
        "\n",
        "# load coordinates data from file\n",
        "stations_coord = pd.read_csv(\"air_quality_stations.csv\")\n",
        "\n",
        "# load parameter data from file\n",
        "air_quality_parameters = pd.read_csv(\"air_quality_parameters.csv\")"
      ],
      "metadata": {
        "id": "_Q7SCxGaToi0"
      },
      "execution_count": null,
      "outputs": []
    },
    {
      "cell_type": "markdown",
      "source": [
        "# Summary Statistics and Calculations\n",
        "\n",
        "1. `pandas` comes with built-in functionality for performing common mathematical and statistical calculations.\n",
        "\n",
        "2. Most of these mathematical methods fall under the umbrella of summary statistics.\n",
        "\n",
        "3. We could use `.mean()` to get the average age of Titanic passengers."
      ],
      "metadata": {
        "id": "TqR_TbSyTpl0"
      }
    },
    {
      "cell_type": "code",
      "source": [
        "# load titanic data from url\n",
        "# titanic = pd.read_csv(\"https://raw.githubusercontent.com/kwaldenphd/pandas-intro/main/titanic.csv)\n",
        "\n",
        "# load data from file\n",
        "# titanic = pd.read_csv(\"titanic.csv\")\n",
        "\n",
        "# show first 5 rows of newly-loaded dataframe\n",
        "display(titanic.head(5))\n",
        "\n",
        "# calculate mean\n",
        "titanic[\"Age\"].mean()"
      ],
      "metadata": {
        "id": "wfJ9vYdmTquC"
      },
      "execution_count": null,
      "outputs": []
    },
    {
      "cell_type": "markdown",
      "source": [
        "4. We could also calculate the median age and ticket fare using `.median()`.\n"
      ],
      "metadata": {
        "id": "bSpbrijbT3BW"
      }
    },
    {
      "cell_type": "code",
      "source": [
        "# median age and ticket fare\n",
        "titanic[[\"Age\", \"Fare\"]].median()"
      ],
      "metadata": {
        "id": "JlR34x7fT3u6"
      },
      "execution_count": null,
      "outputs": []
    },
    {
      "cell_type": "markdown",
      "source": [
        "5. By default, these descriptive statistics will ignore missing data.\n",
        "\n",
        "6. In a situation where missing data or `NaN` values need to be part of the calculation, we would set `skipna` to `False`."
      ],
      "metadata": {
        "id": "V1IqUDlsT7lf"
      }
    },
    {
      "cell_type": "code",
      "source": [
        "# skip NA rows\n",
        "titanic.sum(axis=0, skipna=True)"
      ],
      "metadata": {
        "id": "eo00hk0ET8Uu"
      },
      "execution_count": null,
      "outputs": []
    },
    {
      "cell_type": "markdown",
      "source": [
        "7. In the `.sum()` example, we use `axis=` to specify what axis to perform the mathematical operation on.\n",
        "- `axis=0` indicates columns\n",
        "- `axis=1` indicates rows\n",
        "\n",
        "8. `skipna=True` means rows with missing data will not be part of the mathematical operation.\n",
        "\n",
        "9. Remember `.describe()` returns aggregate information on the entire dataset.\n",
        "\n",
        "10. We can use `.agg()` to return specific combinations of aggregate statistics for specific columns.\n",
        "\n",
        "11. Say we wanted to compute `min`, `max`, `median`, and `skew` for the `Age` column and `min`, `max`, `median`, and `mean` for the `Fare` column.\n",
        "\n",
        "12. We can specify those statistics and those columns using `.agg()`."
      ],
      "metadata": {
        "id": "xTSN0DdpT94e"
      }
    },
    {
      "cell_type": "code",
      "source": [
        "# calculate summary statistics using .agg()\n",
        "titanic.agg(\n",
        "  {\n",
        "    \"Age\": [\"min\", \"max\", \"median\", \"skew\"],\n",
        "    \"Fare\": [\"min\", \"max\", \"median\", \"mean\"],\n",
        "   }\n",
        " )"
      ],
      "metadata": {
        "id": "AMXvmfCfT-wH"
      },
      "execution_count": null,
      "outputs": []
    },
    {
      "cell_type": "markdown",
      "source": [
        "13. Consult `pandas` [\"Descriptive statistics\"](https://pandas.pydata.org/pandas-docs/stable/user_guide/basics.html#descriptive-statistics) documentation for more on descriptive statistics in `pandas`.\n",
        "\n",
        "14. We can also aggregate summary statistics by category, using `.groupby()`.\n",
        "\n",
        "15. To find out the average age for female versus male passengers:"
      ],
      "metadata": {
        "id": "H18V16rmT_2v"
      }
    },
    {
      "cell_type": "code",
      "source": [
        "# average age grouped by gender\n",
        "titanic[[\"Sex\", \"Age\"]].groupby(\"Sex\").mean()"
      ],
      "metadata": {
        "id": "kFAil4M_UAeu"
      },
      "execution_count": null,
      "outputs": []
    },
    {
      "cell_type": "markdown",
      "source": [
        "16. The first set of brackets (`[]`) isolates a subselection with only these two columns.\n",
        "\n",
        "17. Then we apply the `.groupby()` method to the `Sex` column to calculate `.mean()` for each unique value represented in the `Sex` field.\n",
        "\n",
        "<p align=\"center\"><a href=\"https://github.com/kwaldenphd/eda-pandas/blob/main/figures/Figure_1.svg?raw=true\"><img class=\"aligncenter\" src=\"https://github.com/kwaldenphd/eda-pandas/blob/main/figures/Figure_1.svg?raw=true\" /></a></p>\n",
        "\n",
        "18. Generally speaking, this type of `pandas` operation follows a `split-apply-combine` pattern.\n",
        "- First we `split` the data into groups.\n",
        "- Then we `apply` a function to each group independently.\n",
        "- Then we `combine` the function results into a data structure.\n",
        "\n",
        "19. `pandas` syntax combines the `apply` and `combine` steps.\n",
        "\n",
        "20. Another way to calculate average age by gender:"
      ],
      "metadata": {
        "id": "Owd0ZKghUBsc"
      }
    },
    {
      "cell_type": "code",
      "source": [
        "# average age grouped by gender\n",
        "titanic.groupby(\"Sex\")[\"Age\"].mean()"
      ],
      "metadata": {
        "id": "E2T73pNUUChr"
      },
      "execution_count": null,
      "outputs": []
    },
    {
      "cell_type": "markdown",
      "source": [
        "<p align=\"center\"><a href=\"https://github.com/kwaldenphd/eda-pandas/blob/main/figures/Figure_2.svg?raw=true\"><img class=\"aligncenter\" src=\"https://github.com/kwaldenphd/eda-pandas/blob/main/figures/Figure_2.svg?raw=true\" /></a></p>\n",
        "\n",
        "21. In this alternate example, the column name in the `.groupby()` parenthesis specifies the column to group by.\n",
        "\n",
        "22. The column name in brackets (`[]`) specifies the column to perform the mathematical function on.\n",
        "\n",
        "23. As a last example, let's say we want the mean ticket fare price for each of the gender and cabin class combinations.\n",
        "\n",
        "24. We can think through the underlying logic for that program.\n",
        "- First we need to `split` the data into groups for gender and cabin class\n",
        "- Then we need to `apply` a mean calculation to the ticket fare column for each of those  groups\n",
        "- The last step will be to `combine` all that information into a data structure\n",
        "\n",
        "25. To express that programatically in Python:"
      ],
      "metadata": {
        "id": "I_l8HQh6UEGY"
      }
    },
    {
      "cell_type": "code",
      "source": [
        "# average fare grouped by gender and passenger class\n",
        "titanic.groupby([\"Sex\", \"Pclass\"])[\"Fare\"].mean()"
      ],
      "metadata": {
        "id": "dYhEDT13UFPq"
      },
      "execution_count": null,
      "outputs": []
    },
    {
      "cell_type": "markdown",
      "source": [
        "26. Consult `pandas` [\"Group by\" documentation](https://pandas.pydata.org/pandas-docs/stable/user_guide/groupby.html#groupby) to learn more about this function.\n",
        "\n",
        "27. We can also count the number of records by category using `.value_counts()`.\n",
        "\n",
        "28. The `.value_counts()` method returns the number of records for each category in a column.\n",
        "\n",
        "29. Let's say we wanted to know the number of passengers for each cabin class.\n",
        "\n",
        "30. Thinking through the underlying logic, we want Python to count how many records are contained for each unique value in the `Pclass` column.\n",
        "\n",
        "31. That requires identifying the unique values, counting the number of instances for each, and returning those values as a sum.\n",
        "\n",
        "32. To express that progrmatically in Python:"
      ],
      "metadata": {
        "id": "LF8TzFU4UGNa"
      }
    },
    {
      "cell_type": "code",
      "source": [
        "# number of values in Pclass column\n",
        "titanic[\"Pclass\"].value_counts()"
      ],
      "metadata": {
        "id": "pIrzOwyTUHNS"
      },
      "execution_count": null,
      "outputs": []
    },
    {
      "cell_type": "markdown",
      "source": [
        "32. We could also break out these steps using a combination of `.groupby()` and `.count()`:\n"
      ],
      "metadata": {
        "id": "W_HzcD4pUHuj"
      }
    },
    {
      "cell_type": "code",
      "source": [
        "# number of Pclass column values, grouped by unique PClass values\n",
        "titanic.groupby(\"Pclass\")[\"Pclass\"].count()"
      ],
      "metadata": {
        "id": "JHaDoz_wUJeq"
      },
      "execution_count": null,
      "outputs": []
    },
    {
      "cell_type": "markdown",
      "source": [
        "33. In the second example, we are explicitly categorizing the data by category in the `Pclass` column, then performing a `.count()` operation on the records for each `Pclass` category.\n",
        "\n",
        "34. A few key takeaways:\n",
        "- We can calculate aggregate statistics for entire rows or columns\n",
        "- `.groupby()` follows a `split-apply-combine` pattern\n",
        "- `.value_counts()` can be a shorthand for getting the number of entries for each category in a field\n",
        "\n",
        "<blockquote>Q1: Using the titanic dataset (or another dataset), write code that calculates at least 3 unique summary statistics. Include code + comments for each.</blockquote>\n",
        "\n",
        "## Creating New Columns Based on Existing Columns\n",
        "\n",
        "35. Let's introduce a new sample dataset, this time with air quality data for measurement stations in London, Paris, and Antwerp.\n",
        "\n",
        "36. Values in this dataset include nitrogen dioxide (<code>NO<sub>2</sub></code>) concentration expressed as parts per million (`ppm`)."
      ],
      "metadata": {
        "id": "oH02bsc_UK_O"
      }
    },
    {
      "cell_type": "code",
      "source": [
        "# load air quality data from url\n",
        "# air_quality = pd.read_csv(\"https://raw.githubusercontent.com/kwaldenphd/eda-pandas/main/data/air_quality_no2.csv\", index_col=0, parse_dates=True)\n",
        "\n",
        "# load data from file\n",
        "# air_quality = pd.read_csv(\"air_quality_no2.csv\", index_col=0, parse_dates=True)\n",
        "\n",
        "# show first 5 rows of newly-loaded dataframe\n",
        "display(air_quality.head())"
      ],
      "metadata": {
        "id": "rCxUq0zgUMLO"
      },
      "execution_count": null,
      "outputs": []
    },
    {
      "cell_type": "markdown",
      "source": [
        "37. Let's say we wanted to express the London station's <code>NO<sub>2</sub></code> concentration as milligrams per cubic meter (mg/m<sup>3</sup>).\n",
        "\n",
        "38. For our purposes, we are assuming a temperature of 25 degrees Celsius and pressure of 1013 hPa, which means the conversion factor is 1.882.\n",
        "\n",
        "39. We would need to convert all of the `station_london` column values from `ppm` to <code>mg/m<sup>3</sup></code>. And we would want to store the results of that calculation in a newly-created column.\n",
        "\n",
        "<p align=\"center\"><a href=\"https://github.com/kwaldenphd/eda-pandas/blob/main/figures/Figure_2.svg?raw=true\"><img class=\"aligncenter\" src=\"https://github.com/kwaldenphd/eda-pandas/blob/main/figures/Figure_2.svg?raw=true\" /></a></p>\n",
        "\n",
        "40. To express those steps programatically in Python:"
      ],
      "metadata": {
        "id": "eBBI1RJCUNch"
      }
    },
    {
      "cell_type": "code",
      "source": [
        "# createw new column from arithmetic calculation\n",
        "air_quality[\"london_mg_per_cubic\"] = air_quality[\"station_london\"] * 1.882\n",
        "\n",
        "# show updated dataframe\n",
        "display(air_quality.head())"
      ],
      "metadata": {
        "id": "unjT-G11UOzl"
      },
      "execution_count": null,
      "outputs": []
    },
    {
      "cell_type": "markdown",
      "source": [
        "41. Note that we do not need to iterate over all rows for a specific dataframe column to perform this calculation.\n",
        "\n",
        "42. `pandas` performs the calculation `element_wise`, that is on all of the values in the column at once.\n",
        "\n",
        "43. Let's say we wanted to calculate the ratio of the Paris versus Antwerp station values and store that result in a new column.\n",
        "\n",
        "44. We would need to calculate the ratio for each row and store the results of the calculation in a new column.\n",
        "\n",
        "<p align=\"center\"><a href=\"https://github.com/kwaldenphd/eda-pandas/blob/main/figures/Figure_3.svg?raw=true\"><img class=\"aligncenter\" src=\"https://github.com/kwaldenphd/eda-pandas/blob/main/figures/Figure_3.svg?raw=true\" /></a></p>\n",
        "\n",
        "45. To express those steps programatically in Python:"
      ],
      "metadata": {
        "id": "PmiSv6edUP0c"
      }
    },
    {
      "cell_type": "code",
      "source": [
        "# create new column with calculation result\n",
        "air_quality[\"ratio_paris_antwerp\"] = (air_quality[\"station_paris\"] / air_quality[\"station_antwerp\"])\n",
        "\n",
        "# show updated dataframe\n",
        "display(air_quality.head())"
      ],
      "metadata": {
        "id": "OJ0JiYx_UQ_F"
      },
      "execution_count": null,
      "outputs": []
    },
    {
      "cell_type": "markdown",
      "source": [
        "46. Again, because this is an element-wise calculation, the division operation is applied to all rows in the data frame.\n",
        "\n",
        "47. Python's other mathematical (`+`, `-`, `*`, `/`) and logical (`<`, `>`, `=`, etc.) all work element-wise.\n",
        "\n",
        "<blockquote>Q2: Describe element-wise calculation in your own words.</blockquote>\n",
        "\n",
        "<blockquote>Q3: Using the air quality data or another dataset, write code that generates a new column based on an existing column(s). Include code + comments.</blockquote>\n",
        "\n",
        "# Manipulating and Reshaping Data\n",
        "\n",
        "48. We've already covered how to sort or group by values in a dataframe.\n",
        "\n",
        "49. We can also perform more drastic data manipulations and transformations using `pandas`.\n"
      ],
      "metadata": {
        "id": "f47R78TIUR7u"
      }
    },
    {
      "cell_type": "markdown",
      "source": [
        "## Working with Time Series Data\n",
        "\n",
        "50. Let's load another air quality dataset.\n",
        "- The `air_quality_no2_long.csv` file provies NO<sub>2</sub> values for three measurement stations."
      ],
      "metadata": {
        "id": "Xy71r78GUTCw"
      }
    },
    {
      "cell_type": "code",
      "source": [
        "# load no2 observation data\n",
        "# air_quality_no2_long = pd.read_csv(\"https://raw.githubusercontent.com/kwaldenphd/eda-pandas/main/data/air_quality_no2_long.csv\", parse_dates=True)\n",
        "\n",
        "# load data from file\n",
        "# air_quality_no2_long = pd.read_csv(\"air_quality_no2_long.csv\", parse_dates=True)\n",
        "\n",
        "# set column names\n",
        "air_quality_no2_long = air_quality_no2_long[[\"date.utc\", \"location\", \"parameter\", \"value\"]]\n",
        "\n",
        "# make sure columns are renamed and no2 data is loaded\n",
        "display(air_quality_no2_long.head())"
      ],
      "metadata": {
        "id": "Hjd8vC4lUUPD"
      },
      "execution_count": null,
      "outputs": []
    },
    {
      "cell_type": "markdown",
      "source": [
        "51. At this point you may be wondering what exactly we are supposed to do with the convoluted string of numbers and characters in the `datetime` field for the `air_quality_no2_long` file.\n",
        "\n",
        "52. Let's first break down the information contained in this field.\n",
        "\n",
        "53. The data contained in the string for a single `datetime` value: `2019-06-21 00:00:00+00:00`\n",
        "\n",
        "- year (2019)\n",
        "- month (6)\n",
        "- day (21)\n",
        "- hour (00 before first colon)\n",
        "- minute (00 between two colons)\n",
        "- second (00 after second colon)\n",
        "- UTC offset, or time zone (00:00 after + symbol)\n",
        "\n",
        "54. We can imagine a number of different scenarios in which we would want to interact with this information as a time series object, rather than just a string of characters.\n",
        "\n",
        "55. Initially, `pandas` is treating the `datetime` field as a character string.\n",
        "\n",
        "56. We can use the `.to_datetime()` function to convert this field to a datetime object.\n"
      ],
      "metadata": {
        "id": "XAqpfcXiUViY"
      }
    },
    {
      "cell_type": "code",
      "source": [
        "# convert data.utc column to datatime object\n",
        "air_quality_no2_long[\"datetime\"] = pd.to_datetime(air_quality_no2_long[\"date.utc\"])\n",
        "\n",
        "# check column data type\n",
        "air_quality_no2_long[\"datetime\"]"
      ],
      "metadata": {
        "id": "VrsUd8ftUWmL"
      },
      "execution_count": null,
      "outputs": []
    },
    {
      "cell_type": "markdown",
      "source": [
        "57. Now that we have the `datatime` field as a datatime object, we can access a number of specialized commands.\n"
      ],
      "metadata": {
        "id": "BVAr0-UqUXXr"
      }
    },
    {
      "cell_type": "code",
      "source": [
        "# identify start and end times for time series data\n",
        "air_quality_no2_long[\"datetime\"].min(), air_quality_no2_long[\"datetime\"].max()\n",
        "\n",
        "# calculate length of time series\n",
        "air_quality_no2_long[\"datetime\"].max() - air_quality_no2_long[\"datetime\"].min()"
      ],
      "metadata": {
        "id": "D7NCmAe8UYT1"
      },
      "execution_count": null,
      "outputs": []
    },
    {
      "cell_type": "markdown",
      "source": [
        "58. If we know we are loading data with a datatime like field, we can specify how `pandas` should parse the datetime field in the newly-created data frame using `parse_dates`.\n"
      ],
      "metadata": {
        "id": "KGM7R9paUZCW"
      }
    },
    {
      "cell_type": "code",
      "source": [
        "# load from url\n",
        "air_quality_no2_long = pd.read_csv(\"https://raw.githubusercontent.com/kwaldenphd/eda-pandas/main/data/air_quality_no2_long.csv\", parse_dates=[\"date.utc\"])\n",
        "\n",
        "# load data from file\n",
        "# air_quality_no2_long = pd.read_csv(\"air_quality_no2_long.csv\", parse_dates=[\"date.utc\"])"
      ],
      "metadata": {
        "id": "oVwx0HcEUaZk"
      },
      "execution_count": null,
      "outputs": []
    },
    {
      "cell_type": "markdown",
      "source": [
        "59. For more on datatime objects and time series data in Python:\n",
        "- [`pandas` documentation on time related concepts](https://pandas.pydata.org/pandas-docs/stable/user_guide/timeseries.html)\n",
        "- [`pandas` documentation on timestamps](https://pandas.pydata.org/pandas-docs/stable/reference/api/pandas.Timestamp.html#pandas.Timestamp)\n",
        "- [Python documentation on datetime](https://docs.python.org/3/library/datetime.html)\n",
        "\n",
        "## `.pivot()`\n",
        "\n",
        "60. Let's look at an alternate structure for the `air_quality` data.\n",
        "\n",
        "61. In `air_quality_no2.csv`, each row is a unique `datetime` and there are distinct columns for each station location.\n",
        "\n",
        "62. By comparison, navigate to https://raw.githubusercontent.com/kwaldenphd/eda-pandas/main/data/air_quality_long.csv in a web browser.\n",
        "\n",
        "63. The `air_quality_long` dataset includes the following variables or columns:\n",
        "- `city`: city where the sensor is used, either Paris, Antwerp or London\n",
        "- `country`: country where the sensor is used, either FR, BE or GB\n",
        "- `location`: the id of the sensor, either FR04014, BETR801 or London Westminster\n",
        "- `parameter`: the parameter measured by the sensor, either <code>NO<sub>2</sub></code> or Particulate matter\n",
        "- `value`: the measured value\n",
        "- `unit`: the unit of the measured parameter, in this case ‘µg/m³’\n",
        "- `datetime`: the index for this DataFrame\n",
        "\n",
        "64. For this example, we only want the first two measurements for each location's <code>NO<sub>2</sub></code> data observations.\n",
        "\n",
        "65. Our first step is to select only the rows with <code>NO<sub>2</sub></code> observations.\n",
        "\n",
        "66. Then we need to group by station location and isolate the first two observations for each unique location.\n",
        "\n",
        "67. To express that programatically in Python:"
      ],
      "metadata": {
        "id": "sJiXEUMCUbr_"
      }
    },
    {
      "cell_type": "code",
      "source": [
        "# load data from url\n",
        "# air_quality_long = pd.read_csv(\"https://raw.githubusercontent.com/kwaldenphd/eda-pandas/main/data/air_quality_long.csv\")\n",
        "\n",
        "# load from file\n",
        "# air_quality_long = pd.read_csv(\"air_quality_long.csv\")\n",
        "\n",
        "# create subset with only no2 data\n",
        "no2 = air_quality_long[air_quality_long[\"parameter\"] == \"no2\"]\n",
        "\n",
        "# group by station locations\n",
        "no2_subset = no2.sort_index().groupby([\"location\"]).head(2)\n",
        "\n",
        "# verify the output for our no2_subset dataframe\n",
        "no2_subset"
      ],
      "metadata": {
        "id": "MPrjTWtAUczP"
      },
      "execution_count": null,
      "outputs": []
    },
    {
      "cell_type": "markdown",
      "source": [
        "68. Let's imagine we want the three station values for <code>NO<sub>2</sub></code> to appear as adjacent columns.\n",
        "\n",
        "<p align=\"center\"><a href=\"https://github.com/kwaldenphd/eda-pandas/blob/main/figures/Figure_4.svg?raw=true\"><img class=\"aligncenter\" src=\"https://github.com/kwaldenphd/eda-pandas/blob/main/figures/Figure_4.svg?raw=true\" /></a></p>\n",
        "\n",
        "69. We can accomplish this transformation using the `.pivot()` function."
      ],
      "metadata": {
        "id": "V2vLFI3lUd_1"
      }
    },
    {
      "cell_type": "code",
      "source": [
        "# pivot values based on location\n",
        "no2_subset.pivot(columns=\"location\", values=\"value\")"
      ],
      "metadata": {
        "id": "0dY4OoLEUe9j"
      },
      "execution_count": null,
      "outputs": []
    },
    {
      "cell_type": "markdown",
      "source": [
        "70. In this example `.pivot()` is only reshaping the data--nothing about the underlying data values is changed.\n",
        "\n",
        "71. Another example of `.pivot()`:\n",
        "\n",
        "<p align=\"center\"><a href=\"https://github.com/kwaldenphd/eda-pandas/blob/main/figures/Figure_5.png?raw=true\"><img class=\"aligncenter\" src=\"https://github.com/kwaldenphd/eda-pandas/blob/main/figures/Figure_5.png?raw=true\" /></a></p>\n",
        "\n",
        "72. We create a new data frame in which the unique values in `foo` our row index, and the `bar` categories our columns.\n",
        "\n",
        "```Python\n",
        "# sample syntax for pivot\n",
        "new_data_frame = old_data_frame.pivot(index=\"foo\", columns=\"bar\", values=\"baz\")\n",
        "```\n",
        "\n",
        "73. Consult the `pandas` documentation [\"Pivoting DataFrame objects\"](https://pandas.pydata.org/pandas-docs/stable/user_guide/reshaping.html#reshaping-reshaping) for more on this function.\n",
        "\n",
        "## `.melt()`\n",
        "\n",
        "74. We can also reshape data using `.melt()`, which is helpful when we need to make column names a unique field value.\n",
        "\n",
        "75. `.melt()` is the inverse of `.pivot()`-- it transforms wide tables into long tables. \n",
        "\n",
        "76. We'll use an example data frame that has height and weight information for two individuals.\n",
        "\n",
        "<p align=\"center\"><a href=\"https://github.com/kwaldenphd/eda-pandas/blob/main/figures/Figure_8.png?raw=true\"><img class=\"aligncenter\" src=\"https://github.com/kwaldenphd/eda-pandas/blob/main/figures/Figure_8.png?raw=true\" /></a></p>\n",
        "\n",
        "77. In this example, we might want to be able to isolate height and weight in ways that the original data structure will not let us.\n",
        "\n",
        "78. We want to isolate some of our columns as identifier variables and have other columns be measured variables.\n",
        "\n",
        "79. We can use `.melt()` to transform this data so each row is a unique observation.\n",
        "```Python\n",
        "# sample syntax for melt\n",
        "old_data_frame.melt(id_vars=['first_identifier_variable_column', 'second_identifier_variable_column'])\n",
        "```\n",
        "\n",
        "80. We could also rename this newly-created identifier variable column:\n",
        "```Python\n",
        "# sample syntax for melt\n",
        "old_data_frame.melt(id_vars=['first_identifier_variable_column', 'second_identifier_variable_column'], var_name=\"new_identifier_variable_column_name\")\n",
        "```\n",
        "\n",
        "81. Applying this to our air quality data, we can take the wide table format created by `.pivot()` and transform it back into a long data format using `.melt()`.\n"
      ],
      "metadata": {
        "id": "OuorV6e0Uhit"
      }
    },
    {
      "cell_type": "code",
      "source": [
        "# create wide data format\n",
        "no2_pivoted = no2.pivot(index = 'date.utc', columns=\"location\", values=\"value\").reset_index()\n",
        "\n",
        "# verify wide data\n",
        "display(no2_pivoted.head())"
      ],
      "metadata": {
        "id": "2Z4vvsCyUik3"
      },
      "execution_count": null,
      "outputs": []
    },
    {
      "cell_type": "markdown",
      "source": [
        "82. We can transform our pivoted wide data back into a long data format using `.melt()`.\n"
      ],
      "metadata": {
        "id": "FFhwXmO-Ukka"
      }
    },
    {
      "cell_type": "code",
      "source": [
        "# pivot no2 data based on date\n",
        "no_2 = no2_pivoted.melt(id_vars=\"date.utc\")\n",
        "\n",
        "# show updated dataframe\n",
        "display(no_2.head())"
      ],
      "metadata": {
        "id": "H2LQGCTqUj1U"
      },
      "execution_count": null,
      "outputs": []
    },
    {
      "cell_type": "markdown",
      "source": [
        "83. In this example, the column headers become variable names in a newly-created column.\n",
        "\n",
        "84. Consult the `pandas` documentation [\"Reshaping by melt\"](https://pandas.pydata.org/pandas-docs/stable/user_guide/reshaping.html#reshaping-melt) for more details on using this function.\n",
        "\n",
        "## `.pivot_table()`\n",
        "\n",
        "85. In some cases, we might want to create a new table with calculations derived from an original data frame.\n",
        "\n",
        "86. For example, let's say we want the mean concentration values for <code>NO<sub>2</sub></code> and <code>PM<sub>2.5</sub></code> from each station stored as a table.\n",
        "\n",
        "<p align=\"center\"><a href=\"https://github.com/kwaldenphd/eda-pandas/blob/main/figures/Figure_9.svg?raw=true\"><img class=\"aligncenter\" src=\"https://github.com/kwaldenphd/eda-pandas/blob/main/figures/Figure_9.svg?raw=true\" /></a></p>\n",
        "\n",
        "87. We can create a pivot table that is based on the underlying dataframe to display these aggregate calculations.\n",
        "\n",
        "88. We need to specify the values, index, columns, and aggregate function we are using to create the pivot table.\n",
        "\n",
        "89. To express this programatically in Python:"
      ],
      "metadata": {
        "id": "wxOScI88UmQR"
      }
    },
    {
      "cell_type": "code",
      "source": [
        "# create pivot table based on location and mean values\n",
        "air_quality_long.pivot_table(values=\"value\", index=\"location\", columns=\"parameter\", aggfunc=\"mean\")"
      ],
      "metadata": {
        "id": "LiX4p650UnE5"
      },
      "execution_count": null,
      "outputs": []
    },
    {
      "cell_type": "markdown",
      "source": [
        "90. We could also use `.groupby()` and `.mean()` to generate the same output.\n"
      ],
      "metadata": {
        "id": "_1HEz89OUn3S"
      }
    },
    {
      "cell_type": "code",
      "source": [
        "# show mean grouped by location and parameter\n",
        "air_quality_long.groupby([\"parameter\", \"location\"]).mean()"
      ],
      "metadata": {
        "id": "U6Njam8_Uoj2"
      },
      "execution_count": null,
      "outputs": []
    },
    {
      "cell_type": "markdown",
      "source": [
        "<blockquote>Consult the `pandas` <a href=\"https://pandas.pydata.org/pandas-docs/stable/user_guide/reshaping.html#reshaping-pivot\">documentation on pivot tables</a> to learn more about this function.</blockquote>\n",
        "\n",
        "## `.stack()` and `.unstack()`\n",
        "\n",
        "91. We can also reshape data using `.stack()` and `.unstack()`.\n",
        "\n",
        "92. In these examples, our data frame has multiple indeces, or a hierarchical multi-index.\n",
        "\n",
        "93. We might want to reconfigure how Python handles the hierarchical labels.\n",
        "\n",
        "94. We can do this using `.stack()` and `.unstack()`.\n",
        "\n",
        "<p align=\"center\"><a href=\"https://github.com/kwaldenphd/eda-pandas/blob/main/figures/Figure_6.png?raw=true\"><img class=\"aligncenter\" src=\"https://github.com/kwaldenphd/eda-pandas/blob/main/figures/Figure_6.png?raw=true\" /></a></p>\n",
        "\n",
        "95. To reshape this data using `.stack()`:\n",
        "```Python\n",
        "# sample syntax for stack\n",
        "stacked_df.stack()\n",
        "```\n",
        "\n",
        "96. `.unstack()` is the inverse operation of `.stack()`.\n",
        "\n",
        "<p align=\"center\"><a href=\"https://github.com/kwaldenphd/eda-pandas/blob/main/figures/Figure_7.png?raw=true\"><img class=\"aligncenter\" src=\"https://github.com/kwaldenphd/eda-pandas/blob/main/figures/Figure_7.png?raw=true\" /></a></p>\n",
        "\n",
        "97. To reshape this data using `.unstack()`:\n",
        "```Python\n",
        "# sample syntax for unstack\n",
        "unstacked_df.unstack()\n",
        "```\n",
        "\n",
        "<blockquote>Q4: In your own words, provide a brief description/explanation for each function: .pivot(), .melt(), .pivot_table(), .stack(), and .unstack().</blockquote>\n",
        "\n",
        "<blockquote>Q5: Write code for .pivot(), .melt(), and .pivot_table() using the air quality datasets or another dataset of your choosing. Include code + comments.</blockquote>\n",
        "\n",
        "<blockquote>Q6: Describe how you are thinking about needing to use the Q4 functions in relation to data you're interested in working with as part of the final project.</blockquote>"
      ],
      "metadata": {
        "id": "HijW6HKMUqbX"
      }
    },
    {
      "cell_type": "markdown",
      "source": [
        "# Combining Data\n",
        "\n",
        "98. The SQL queries and joins lab covered how we can use joins in a relational database system to create new data structures.\n",
        "\n",
        "99. `pandas` has somewhat similar functionality that allows you to merge and combine data from multiple tables.\n",
        "\n",
        "100. `pandas.merge` connects rows in DataFrames based on one or more key fields. This is similar to SQL JOIN operations.\n",
        "\n",
        "101. `pandas.concat` concatenates or \"stacks\" objects together along an axis.\n",
        "\n",
        "102. `combine_first` allows you to splice overlapping data to fill in missing values.\n",
        "\n",
        "103. Let's work with some additional air quality datasets.\n",
        "- The `air_quality_no2_long.csv` file provies NO<sub>2</sub> values for three measurement stations.\n",
        "- The `air_quality_pm25_long.csv` file provides PM<sub>25</sub> values (particulate matter less than 2.5 micrometers) for the same three measurement stations.\n",
        "- The `air_quality_stations.csv` file provides latitude and longitude coordinates for five different measurement stations.\n",
        "- The `air_quality_parameters.csv` file provides parameter full description and name for five different element types.\n",
        "\n",
        "104. To load these datasets:"
      ],
      "metadata": {
        "id": "SsTtpsegUrxz"
      }
    },
    {
      "cell_type": "code",
      "source": [
        "# load no2 observation data from url\n",
        "# air_quality_no2_long = pd.read_csv(\"https://raw.githubusercontent.com/kwaldenphd/eda-pandas/main/data/air_quality_no2_long.csv\", parse_dates=True)\n",
        "\n",
        "# load no2 observation data from file \n",
        "# air_quality_no2_long = pd.read_csv(\"air_quality_no2_long.csv\", parse_dates=True)\n",
        "\n",
        "# make sure columns are renamed and no2 data is loaded\n",
        "display(air_quality_no2_long.head())"
      ],
      "metadata": {
        "id": "lhAoMtF0UtdK"
      },
      "execution_count": null,
      "outputs": []
    },
    {
      "cell_type": "code",
      "source": [
        "# load pm25 data from url\n",
        "# air_quality_pm25 = pd.read_csv(\"https://raw.githubusercontent.com/kwaldenphd/eda-pandas/main/data/air_quality_pm25_long.csv\", parse_dates=True)\n",
        "\n",
        "# load pm25 data from file\n",
        "# air_quality_pm25 = pd.read_csv(\"air_quality_pm25_long.csv\", parse_dates=True)\n",
        "\n",
        "# make sure columns are renamed and pm25 data is loaded\n",
        "display(air_quality_pm25.head())"
      ],
      "metadata": {
        "id": "BC53sAqpUuhv"
      },
      "execution_count": null,
      "outputs": []
    },
    {
      "cell_type": "code",
      "source": [
        "# load coordinates data from url\n",
        "# stations_coord = pd.read_csv(\"https://raw.githubusercontent.com/kwaldenphd/eda-pandas/main/data/air_quality_stations.csv\")\n",
        "\n",
        "# load coordinates data from file\n",
        "# stations_coord = pd.read_csv(\"air_quality_stations.csv\")\n",
        "\n",
        "# make sure coordinate data is loaded\n",
        "display(stations_coord.head())"
      ],
      "metadata": {
        "id": "dXPWe-tCUviP"
      },
      "execution_count": null,
      "outputs": []
    },
    {
      "cell_type": "code",
      "source": [
        "# load parameter data from url\n",
        "# air_quality_parameters = pd.read_csv(\"https://raw.githubusercontent.com/kwaldenphd/eda-pandas/main/data/air_quality_parameters.csv\")\n",
        "\n",
        "# load parameter data from file\n",
        "# air_quality_parameters = pd.read_csv(\"air_quality_parameters.csv\")\n",
        "\n",
        "# make sure parameter data is loaded\n",
        "display(air_quality_parameters.head())"
      ],
      "metadata": {
        "id": "QhUeNb6EUwwa"
      },
      "execution_count": null,
      "outputs": []
    },
    {
      "cell_type": "markdown",
      "source": [
        "## `.concat()`\n",
        "\n",
        "105. Let's say we want to combine the NO<sub>2</sub> and PM<sub>25</sub> measurements in a single table.\n",
        "\n",
        "106. Since the two original tables have a similar strucure, we can perform a concatenation operation on multiple tables using one of the axes.\n",
        "\n",
        "<p align=\"center\"><a href=\"https://github.com/kwaldenphd/eda-pandas/blob/main/figures/Figure_10.svg?raw=true\"><img class=\"aligncenter\" src=\"https://github.com/kwaldenphd/eda-pandas/blob/main/figures/Figure_10.svg?raw=true\" /></a></p>\n",
        "\n",
        "107. We can do this using the `.contact()` function."
      ],
      "metadata": {
        "id": "tIVsXIcOUxut"
      }
    },
    {
      "cell_type": "code",
      "source": [
        "# concatenate based on common column structure\n",
        "air_quality_concat = pd.concat([air_quality_pm25, air_quality_no2_long], axis=0)\n",
        "\n",
        "# show updated dataframe\n",
        "display(air_quality_concat.head())"
      ],
      "metadata": {
        "id": "mmAL-SVkUy32"
      },
      "execution_count": null,
      "outputs": []
    },
    {
      "cell_type": "markdown",
      "source": [
        "108. The default for `.concat()` is axis 0, so the resulting table combines the input table rows.\n",
        "\n",
        "109. Remember in a `pandas` dataframe axis `0` is vertical (rows) and axis `1` is horizontal (columns).\n",
        "\n",
        "110. We can verify how the concatenation operation worked by checking the same of each original table and the concatenated table."
      ],
      "metadata": {
        "id": "gqt_wsRwUz5A"
      }
    },
    {
      "cell_type": "code",
      "source": [
        "# show table dimensions/shapes\n",
        "print('Shape of the ``air_quality_pm25`` table: ', air_quality_pm25.shape)\n",
        "\n",
        "print('Shape of the ``air_quality_no2_long`` table: ', air_quality_no2_long.shape)\n",
        "\n",
        "print('Shape of the resulting ``air_quality`` table: ', air_quality_concat.shape)"
      ],
      "metadata": {
        "id": "oG8ueHz5U0t7"
      },
      "execution_count": null,
      "outputs": []
    },
    {
      "cell_type": "markdown",
      "source": [
        "111. Some fast math tells us that 1110 + 5272 is 6382, the number of rows in the combined table.\n",
        "\n",
        "112. We can sort the new table to see the combined data."
      ],
      "metadata": {
        "id": "tRBfztnwU12e"
      }
    },
    {
      "cell_type": "code",
      "source": [
        "# sort new df by date\n",
        "air_quality_concat = air_quality_concat.sort_values(\"date.utc\")\n",
        "\n",
        "# show updated df\n",
        "display(air_quality_concat.head())"
      ],
      "metadata": {
        "id": "ior510s7U2jj"
      },
      "execution_count": null,
      "outputs": []
    },
    {
      "cell_type": "markdown",
      "source": [
        "113. The data sorted by `data.utc` shows observations for both NO<sub>2</sub> and PM<sub>25</sub>.\n",
        "\n",
        "114. In this example, the resulting values in the `parameter` column make it easy to see what data came from each original table.\n",
        "\n",
        "115. In a situation where we don't have something like the `parameter` column, we can add an additional row index can help identify the data source."
      ],
      "metadata": {
        "id": "rYHNE4vtU3wc"
      }
    },
    {
      "cell_type": "code",
      "source": [
        "# concatenate based on PM25 and NO2 keys\n",
        "air_quality_concat2 = pd.concat([air_quality_pm25, air_quality_no2_long], keys=[\"PM25\", \"NO2\"])\n",
        "\n",
        "# show updated dataframe\n",
        "display(air_quality_concat2.head())"
      ],
      "metadata": {
        "id": "YIxq92RUU4sY"
      },
      "execution_count": null,
      "outputs": []
    },
    {
      "cell_type": "markdown",
      "source": [
        "116. By giving a `keys` argument to the `.concat()` function, we create a hierarchical index or a MultiIndex.\n",
        "\n",
        "117. We encountered MultiIndex previously when looking at `.stack()` and `.unstack()`.\n",
        "\n",
        "118. Consult the `pandas` [documentation on object concatenation](https://pandas.pydata.org/pandas-docs/stable/user_guide/merging.html#merging-concat) for more on this function.\n",
        "\n",
        "## `.merge()`\n",
        "\n",
        "119. We can also join table using a common identifier with `.merge()`.\n",
        "\n",
        "120. Let's say we wanted to add station location coordinates to corresponding rows in the measurements table.\n",
        "\n",
        "121. We have this data loaded as `stations_coord`.\n",
        "\n",
        "<p align=\"center\"><a href=\"https://github.com/kwaldenphd/eda-pandas/blob/main/figures/Figure_11.svg?raw=true\"><img class=\"aligncenter\" src=\"https://github.com/kwaldenphd/eda-pandas/blob/main/figures/Figure_11.svg?raw=true\" /></a></p>\n",
        "\n",
        "122. We can merge the `stations_coord` and `air_quality` data frames based on a common field, `location`.\n",
        "\n",
        "123. To express this programatically in Python"
      ],
      "metadata": {
        "id": "RddSU5sIU6Nq"
      }
    },
    {
      "cell_type": "code",
      "source": [
        "# merge based on location\n",
        "air_quality_merged = pd.merge(air_quality_long, stations_coord, how=\"left\", on=\"location\")\n",
        "\n",
        "# show updated dataframe\n",
        "display(air_quality_merged.head())"
      ],
      "metadata": {
        "id": "ewwUqfwCU7XA"
      },
      "execution_count": null,
      "outputs": []
    },
    {
      "cell_type": "markdown",
      "source": [
        "124. You might notice some similarities with SQL join syntax, in that we're are specifying the origin and target tables, the type of join, and the key field.\n",
        "\n",
        "125. Specifying a left join means only locations in the original `air_quality` dataframe will be retained.\n",
        "\n",
        "126. Let's say we want to add the parameter full description and name to the measurements table.\n",
        "\n",
        "127. We already have the parameter data loaded in the `air_quality_parameters` dataframe.\n",
        "\n",
        "128. In this example, there is no common column name.\n",
        "\n",
        "129. However, we can `parameter` column in the `air_quality` data frame has a common format with the `id` column in the `air_quality_parameters` datarame.\n",
        "\n",
        "130. We can use the `left_on` and `right_on` arguments to specify the fields to join on."
      ],
      "metadata": {
        "id": "vZILV3lFU8in"
      }
    },
    {
      "cell_type": "code",
      "source": [
        "# merge based on parameter and id columns\n",
        "air_quality_merged2 = pd.merge(air_quality_long, air_quality_parameters, how='left', left_on='parameter', right_on='id')\n",
        "\n",
        "# show merged df\n",
        "display(air_quality_merged2.head())"
      ],
      "metadata": {
        "id": "Ep6dpOGoU9P2"
      },
      "execution_count": null,
      "outputs": []
    },
    {
      "cell_type": "markdown",
      "source": [
        "131. For more on different join/merge types:\n",
        "- [database style merging `pandas` documentation](https://pandas.pydata.org/pandas-docs/stable/user_guide/merging.html#merging-join)\n",
        "- [SQL comparison page in `pandas` documentation](https://pandas.pydata.org/pandas-docs/stable/getting_started/comparison/comparison_with_sql.html#compare-with-sql-join)\n",
        "\n",
        "132. Our key takeaways from this section:\n",
        "- Mutliple tables can be concatenated row-rise or column-wise using the `.concat()` function\n",
        "- SQL-style joins can be accomplished using `.merge()`\n",
        "\n",
        "<blockquote>Q7: In your own words, provide a description for the .concat() and .merge() functions. What do these functions do? How are they different?</blockquote>\n",
        "\n",
        "<blockquote>Q8: Write sample code for both the .concat() and .merge() functions. Include code + comments.<ul>\n",
        "<li>You <strong>do not</strong> need to write code that actually loads an existing data file.</li>\n",
        "<li>Write <strong>sample code</strong> that shows the syntax you would use to load a file with the structures/attributes described in the question.</li>\n",
        "<li>However you are welcome to work with the air quality data (or other datasets) for this question.</li></ul></blockquote>\n",
        "\n",
        "<blockquote>Q9: Describe how you are thinking about needing to use the .concat() and .merge() functions for the data you plan to work with in the final project.</blockquote>\n",
        "\n",
        "# Renaming, Mapping, and Reindexing\n",
        "\n",
        "133. As a result or as part of data wrangling operations, you may need to rename columns or renumber the rows in a dataframe."
      ],
      "metadata": {
        "id": "iMLlfUtBU-4Y"
      }
    },
    {
      "cell_type": "markdown",
      "source": [
        "## Renaming Columns\n",
        "\n",
        "134. We can use `.rename()` to rename columns in a dataframe.\n",
        "\n",
        "135. We use a dictionary's key-value pairs to specify the new name for an existing column.\n",
        "\n",
        "136. To do this in place and change the names in an existing dataframe:\n",
        "\n",
        "```Python\n",
        "# sample syntax for renaming columns\n",
        "data_frame.rename(columns={\"old_name_1\": \"new_name_1\", \"old_name_2\": \"new_name_2\", \"old_name_3\": \"new_name_3\"})\n",
        "\n",
        "# show updated df\n",
        "display(data_frame.head())\n",
        "```\n",
        "\n",
        "137. We can also create a new dataframe with the renamed columns.\n",
        "\n",
        "```Python\n",
        "# sample syntax for creating new df with renamed columns\n",
        "new_data_frame = old_data_frame.rename(columns={\"old_name_1\": \"new_name_1\", \"old_name_2\": \"new_name_2\", \"old_name_3\": \"new_name_3\"})\n",
        "\n",
        "# show new df\n",
        "display(new_data_frame.head())\n",
        "```\n",
        "\n",
        "138. We can also standardize axis labels using `str` case methods (`upper`, `lower`, `title`, etc.)\n",
        "\n",
        "```Python\n",
        "# relabel index labels to upper case version of existing labels\n",
        "data_frame.rename(str.upper)\n",
        "\n",
        "# relabel index labels to lower case version of existing labels\n",
        "data_frame.rename(str.lower)\n",
        "```\n",
        "\n",
        "139. We can also rename row index labels usign `.rename()`.\n",
        "\n",
        "```Python\n",
        "# sample syntax for renaming columns using rename and a dictionary\n",
        "data_frame.rename({\"old_row_1\": \"new_row_1\", \"old_row_2\": \"new_row_2\", \"old_row_3\": \"new_row_3\"}, axis=\"index\")\n",
        "```\n",
        "\n",
        "140. In the `data_frame.rename()` examples, the `.rename()` method is applied to a copy of the data--the underlying data is not changed.\n",
        "\n",
        "141. To alter the underlying data, we would set the `inplace` parameter to `True`.\n",
        "\n",
        "```Python\n",
        "# sample syntax for setting inplace parameter to True\n",
        "data_frame.rename(RENAMING OPERATION, inplace=True)\n",
        "```\n",
        "\n",
        "142. For more on renaming functions, consult the `pandas` documentation for [`pandas.DataFrame.rename`](https://pandas.pydata.org/pandas-docs/stable/reference/api/pandas.DataFrame.rename.html#pandas.DataFrame.rename).\n",
        "\n",
        "143. We can also imagine a scenario in which you have sliced or filtered the data and now have row index labels that no longer make sense.\n",
        "\n",
        "144. For example, if your original rows had sequential numerical index labels, the transformed data will retain the original index labels.\n",
        "\n",
        "145. In these situations, we can reset the index to a simple ascending integer index using `.reset_index()`.\n",
        "\n",
        "```Python\n",
        "# sample syntax for resetting index\n",
        "data_frame.reset_index()\n",
        "```\n",
        "\n",
        "146. For more on indexing, consult `pandas` [\"Different choices for indexing\"](https://pandas.pydata.org/pandas-docs/stable/user_guide/indexing.html?highlight=reindex#different-choices-for-indexing) documentation.\n"
      ],
      "metadata": {
        "id": "Y4A22hNaVBzU"
      }
    },
    {
      "cell_type": "markdown",
      "source": [
        "# Lab Notebook Questions\n",
        "\n",
        "Q1: Using the titanic dataset (or another dataset), write code that calculates at least 3 unique summary statistics. Include code + comments for each.\n",
        "\n",
        "Q2: Describe element-wise calculation in your own words.\n",
        "\n",
        "Q3: Using the air quality data or another dataset, write code that generates a new column based on an existing column(s). Include code + comments.\n",
        "\n",
        "Q4: In your own words, provide a brief description/explanation for each function: \n",
        "  * `.pivot()`\n",
        "  * `.melt()`\n",
        "  * `.pivot_table()`\n",
        "  * `.stack()`\n",
        "  * `.unstack`\n",
        "\n",
        "Q5: Write code for `.pivot()`, `.melt()`, and `.pivot_table()` using the air quality datasets or another dataset of your choosing. Include code + comments\n",
        "\n",
        "Q6: Describe how you are thinking about needing to use the `.pivot()`, `.melt()`, `.pivot_table()`, `.stack()` or `.unstack` functions in relation to data you're interested in working with as part of the final project.\n",
        "\n",
        "Q7: In your own words, provide a description for the `.concat()` and `.merge()` functions. What do these functions do? How are they different?\n",
        "\n",
        "Q8: Write sample code for both the `.concat()` and `.merge()` functions. Include code + comments.\n",
        "  * You **do not** need to write code that actually loads an existing data file.\n",
        "  * Write **sample code** that shows the syntax you would use to load a file with the structures/attributes described in the question.\n",
        "  * However you are welcome to work with the air quality data (or other datasets) for this question.\n",
        "\n",
        "Q9: Describe how you are thinking about needing to use the `.concat()` or `.merge()` functions with the data you plan to work with in the final project."
      ],
      "metadata": {
        "id": "zwuJ3tt9VEJ-"
      }
    }
  ],
  "metadata": {
    "kernelspec": {
      "display_name": "Python 3",
      "language": "python",
      "name": "python3"
    },
    "language_info": {
      "codemirror_mode": {
        "name": "ipython",
        "version": 3
      },
      "file_extension": ".py",
      "mimetype": "text/x-python",
      "name": "python",
      "nbconvert_exporter": "python",
      "pygments_lexer": "ipython3",
      "version": "3.8.8"
    },
    "colab": {
      "name": "python-pandas-eda-procedure.ipynb",
      "provenance": [],
      "toc_visible": true,
      "include_colab_link": true
    }
  },
  "nbformat": 4,
  "nbformat_minor": 0
}