{
 "cells": [
  {
   "cell_type": "markdown",
   "metadata": {},
   "source": [
    "# Exploratory Data Analysis Using Pandas\n",
    "\n",
    "<a href=\"http://creativecommons.org/licenses/by-nc/4.0/\" rel=\"license\"><img style=\"border-width: 0;\" src=\"https://i.creativecommons.org/l/by-nc/4.0/88x31.png\" alt=\"Creative Commons License\" /></a>\n",
    "This tutorial is licensed under a <a href=\"http://creativecommons.org/licenses/by-nc/4.0/\" rel=\"license\">Creative Commons Attribution-NonCommercial 4.0 International License</a>.\n",
    "\n",
    "## Lab Goals\n",
    "\n",
    "This lab covers the basic of data wrangling and manipulation in Python using `pandas`. \n",
    "\n",
    "By the end of this lab, students will be able to:\n",
    "- Compute basic summary statistics in Python using `pandas`\n",
    "- Understand the basics of working with time series data in Python using `pandas`\n",
    "- Manipulate and reshape data using `pivot`, `melt`, `pivot_table`, `stack`, and `unstack`\n",
    "- Combining and joining datasets using `concat` and `merge`\n",
    "- Understand the basics of renaming, mapping, and reindexing structured data in Python using `pandas`\n",
    "\n",
    "[Click here](https://raw.githubusercontent.com/kwaldenphd/eda-pandas/main/eda-pandas.ipynb) and select the \"Save as\" option to download this lab as a Jupyter Notebook.\n",
    "\n",
    "## Acknowledgements\n",
    "\n",
    "Information and exercises in this lab are adapted from the following resources:\n",
    "- `pandas` package [\"Getting started\"](https://pandas.pydata.org/pandas-docs/stable/getting_started/intro_tutorials/) documentation.\n",
    "- Wes McKinney's [*Python for Data Analysis: Data Wrangling With pandas, Numpy, and IPython*](https://www.oreilly.com/library/view/python-for-data/9781491957653/) (O'Reilly, 2017)\n",
    "  * Chapter 5 \"Getting Started with pandas\" (125-168)\n",
    "  * Chapter 7 \"Data Cleaning and Preparation\" (195-224)\n",
    "  * Chapter 8 \"Data Wrangling: Join, Combine, and Reshape\" (225-256)\n",
    "  * Chapter 10 \"Data Aggregation and Group Operations\" (293-322)\n",
    "  \n",
    "All figures shown in this lab are from the `pandas` \"Getting Started\" tutorials.\n",
    "\n",
    "# Table of Contents\n",
    "\n",
    "- [Summary Statistics and Calculations](#summary-statistics-and-calculations)\n",
    "  * [Creating New Columns Based on Existing Columns](#creating-new-columns-based-on-existing-columns)\n",
    "- [Manipulating and Reshaping Data](#manipulating-and-reshaping-data)\n",
    "  * [Working with Time Series Data](#working-with-time-series-data)\n",
    "  * [`.pivot()`](#pivot)\n",
    "  * [`.melt()`](#melt)\n",
    "  * [`.pivot_table()`](#pivot_table)\n",
    "  * [`.stack()` and `.unstack()`](#stack-and-unstack)\n",
    "- [Combining Data](#combining-data)\n",
    "  * [`.concat()`](#concat)\n",
    "  * [`.merge()`](#merge)\n",
    "- [Renaming, Mapping, and Reindexing](#renaming-mapping-and-reindexing)\n",
    "  * [Renaming Columns](#renaming-columns)\n",
    "- [Practice Problems](#practice-problems)\n",
    "- [Lab Notebook Questions](#lab-notebook-questions)  \n",
    "\n",
    "# Summary Statistics and Calculations\n",
    "\n",
    "1. `pandas` comes with built-in functionality for performing common mathematical and statistical calculations.\n",
    "\n",
    "2. Most of these mathematical methods fall under the umbrella of summary statistics.\n",
    "\n",
    "3. We could use `.mean()` to get the average age of Titanic passengers."
   ]
  },
  {
   "cell_type": "code",
   "execution_count": null,
   "metadata": {},
   "outputs": [],
   "source": [
    "# import pandas\n",
    "import pandas as pd\n",
    "\n",
    "# load titanic data from url\n",
    "titanic = pd.read_csv(\"https://raw.githubusercontent.com/kwaldenphd/pandas-intro/main/data/titanic.csv\")\n",
    "\n",
    "# show first 5 rows of newly-loaded dataframe\n",
    "titanic.head(5)\n",
    "\n",
    "# calculate mean\n",
    "titanic[\"Age\"].mean()"
   ]
  },
  {
   "cell_type": "markdown",
   "metadata": {},
   "source": [
    "4. We could also calculate the median age and ticket fare using `.median()`."
   ]
  },
  {
   "cell_type": "code",
   "execution_count": null,
   "metadata": {},
   "outputs": [],
   "source": [
    "titanic[[\"Age\", \"Fare\"]].median()"
   ]
  },
  {
   "cell_type": "markdown",
   "metadata": {},
   "source": [
    "5. By default, these descriptive statistics will ignore missing data.\n",
    "\n",
    "6. In a situation where missing data or `NaN` values need to be part of the calculation, we would set `skipna` to `False`."
   ]
  },
  {
   "cell_type": "code",
   "execution_count": null,
   "metadata": {},
   "outputs": [],
   "source": [
    "titanic.sum(axis=0, skipna=True)"
   ]
  },
  {
   "cell_type": "markdown",
   "metadata": {},
   "source": [
    "7. In the `.sum()` example, we use `axis=` to specify what axis to perform the mathematical operation on.\n",
    "- `axis=0` indicates columns\n",
    "- `axis=1` indicates rows\n",
    "\n",
    "8. `skipna=True` means rows with missing data will not be part of the mathematical operation.\n",
    "\n",
    "9. Remember `.describe()` returns aggregate information on the entire dataset.\n",
    "\n",
    "10. We can use `.agg()` to return specific combinations of aggregate statistics for specific columns.\n",
    "\n",
    "11. Say we wanted to compute `min`, `max`, `median`, and `skew` for the `Age` column and `min`, `max`, `median`, and `mean` for the `Fare` column.\n",
    "\n",
    "12. We can specify those statistics and those columns using `.agg()`."
   ]
  },
  {
   "cell_type": "code",
   "execution_count": null,
   "metadata": {},
   "outputs": [],
   "source": [
    "titanic.agg(\n",
    "  {\n",
    "    \"Age\": [\"min\", \"max\", \"median\", \"skew\"],\n",
    "    \"Fare\": [\"min\", \"max\", \"median\", \"mean\"],\n",
    "   }\n",
    " )"
   ]
  },
  {
   "cell_type": "markdown",
   "metadata": {},
   "source": [
    "13. Consult `pandas` [\"Descriptive statistics\"](https://pandas.pydata.org/pandas-docs/stable/user_guide/basics.html#descriptive-statistics) documentation for more on descriptive statistics in `pandas`.\n",
    "\n",
    "14. We can also aggregate summary statistics by category, using `.groupby()`.\n",
    "\n",
    "15. To find out the average age for female versus male passengers:"
   ]
  },
  {
   "cell_type": "code",
   "execution_count": null,
   "metadata": {},
   "outputs": [],
   "source": [
    "titanic[[\"Sex\", \"Age\"]].groupby(\"Sex\").mean()"
   ]
  },
  {
   "cell_type": "markdown",
   "metadata": {},
   "source": [
    "16. The first set of brackets (`[]`) isolates a subselection with only these two columns.\n",
    "\n",
    "17. Then we apply the `.groupby()` method to the `Sex` column to calculate `.mean()` for each unique value represented in the `Sex` field.\n",
    "\n",
    "<p align=\"center\"><a href=\"https://github.com/kwaldenphd/eda-pandas/blob/main/figures/Figure_1.svg?raw=true\"><img class=\"aligncenter\" src=\"https://github.com/kwaldenphd/eda-pandas/blob/main/figures/Figure_1.svg?raw=true\" /></a></p>\n",
    "\n",
    "18. Generally speaking, this type of `pandas` operation follows a `split-apply-combine` pattern.\n",
    "- First we `split` the data into groups.\n",
    "- Then we `apply` a function to each group independently.\n",
    "- Then we `combine` the function results into a data structure.\n",
    "\n",
    "19. `pandas` syntax combines the `apply` and `combine` steps.\n",
    "\n",
    "20. Another way to calculate average age by gender:"
   ]
  },
  {
   "cell_type": "code",
   "execution_count": null,
   "metadata": {},
   "outputs": [],
   "source": [
    "titanic.groupby(\"Sex\")[\"Age\"].mean()"
   ]
  },
  {
   "cell_type": "markdown",
   "metadata": {},
   "source": [
    "<p align=\"center\"><a href=\"https://github.com/kwaldenphd/eda-pandas/blob/main/figures/Figure_2.svg?raw=true\"><img class=\"aligncenter\" src=\"https://github.com/kwaldenphd/eda-pandas/blob/main/figures/Figure_2.svg?raw=true\" /></a></p>\n",
    "\n",
    "21. In this alternate example, the column name in the `.groupby()` parenthesis specifies the column to group by.\n",
    "\n",
    "22. The column name in brackets (`[]`) specifies the column to perform the mathematical function on.\n",
    "\n",
    "23. As a last example, let's say we want the mean ticket fare price for each of the gender and cabin class combinations.\n",
    "\n",
    "24. We can think through the underlying logic for that program.\n",
    "- First we need to `split` the data into groups for gender and cabin class\n",
    "- Then we need to `apply` a mean calculation to the ticket fare column for each of those  groups\n",
    "- The last step will be to `combine` all that information into a data structure\n",
    "\n",
    "25. To express that programatically in Python:"
   ]
  },
  {
   "cell_type": "code",
   "execution_count": null,
   "metadata": {},
   "outputs": [],
   "source": [
    "titanic.groupby([\"Sex\", \"Pclass\"])[\"Fare\"].mean()"
   ]
  },
  {
   "cell_type": "markdown",
   "metadata": {},
   "source": [
    "26. Consult `pandas` [\"Group by\" documentation](https://pandas.pydata.org/pandas-docs/stable/user_guide/groupby.html#groupby) to learn more about this function.\n",
    "\n",
    "27. We can also count the number of records by category using `.value_counts()`.\n",
    "\n",
    "28. The `.value_counts()` method returns the number of records for each category in a column.\n",
    "\n",
    "29. Let's say we wanted to know the number of passengers for each cabin class.\n",
    "\n",
    "30. Thinking through the underlying logic, we want Python to count how many records are contained for each unique value in the `Pclass` column.\n",
    "\n",
    "31. That requires identifying the unique values, counting the number of instances for each, and returning those values as a sum.\n",
    "\n",
    "32. To express that progrmatically in Python:"
   ]
  },
  {
   "cell_type": "code",
   "execution_count": null,
   "metadata": {},
   "outputs": [],
   "source": [
    "titanic[\"Pclass\"].value_counts()"
   ]
  },
  {
   "cell_type": "markdown",
   "metadata": {},
   "source": [
    "32. We could also break out these steps using a combination of `.groupby()` and `.count()`:"
   ]
  },
  {
   "cell_type": "code",
   "execution_count": null,
   "metadata": {},
   "outputs": [],
   "source": [
    "titanic.groupby(\"Pclass\")[\"Pclass\"].count()"
   ]
  },
  {
   "cell_type": "markdown",
   "metadata": {},
   "source": [
    "33. In the second example, we are explicitly categorizing the data by category in the `Pclass` column, then performing a `.count()` operation on the records for each `Pclass` category.\n",
    "\n",
    "34. A few key takeaways:\n",
    "- We can calculate aggregate statistics for entire rows or columns\n",
    "- `.groupby()` follows a `split-apply-combine` pattern\n",
    "- `.value_counts()` can be a shorthand for getting the number of entries for each category in a field"
   ]
  },
  {
   "cell_type": "markdown",
   "metadata": {},
   "source": [
    "<blockquote>Q1: Using the titanic dataset (or another dataset), write code that calculates at least 3 unique summary statistics (.agg() counts as one). Include code + comments for each.</blockquote>"
   ]
  },
  {
   "cell_type": "markdown",
   "metadata": {},
   "source": [
    "35. Let's introduce a new sample dataset, this time with air quality data for measurement stations in London, Paris, and Antwerp.\n",
    "\n",
    "36. Values in this dataset include nitrogen dioxide (<code>NO<sub>2</sub></code>) concentration expressed as parts per million (`ppm`)."
   ]
  },
  {
   "cell_type": "code",
   "execution_count": null,
   "metadata": {},
   "outputs": [],
   "source": [
    "# load air quality data from url\n",
    "air_quality = pd.read_csv(\"https://raw.githubusercontent.com/kwaldenphd/eda-pandas/main/data/air_quality_no2.csv\", index_col=0, parse_dates=True)\n",
    "\n",
    "# show first 5 rows of newly-loaded dataframe\n",
    "air_quality.head()"
   ]
  },
  {
   "cell_type": "markdown",
   "metadata": {},
   "source": [
    "37. Let's say we wanted to express the London station's <code>NO<sub>2</sub></code> concentration as milligrams per cubic meter (mg/m<sup>3</sup>).\n",
    "\n",
    "38. For our purposes, we are assuming a temperature of 25 degrees Celsius and pressure of 1013 hPa, which means the conversion factor is 1.882.\n",
    "\n",
    "39. We would need to convert all of the `station_london` column values from `ppm` to <code>mg/m<sup>3</sup></code>. And we would want to store the results of that calculation in a newly-created column.\n",
    "\n",
    "<p align=\"center\"><a href=\"https://github.com/kwaldenphd/eda-pandas/blob/main/figures/Figure_2.svg?raw=true\"><img class=\"aligncenter\" src=\"https://github.com/kwaldenphd/eda-pandas/blob/main/figures/Figure_2.svg?raw=true\" /></a></p>\n",
    "\n",
    "40. To express those steps programatically in Python:"
   ]
  },
  {
   "cell_type": "code",
   "execution_count": null,
   "metadata": {},
   "outputs": [],
   "source": [
    "air_quality[\"london_mg_per_cubic\"] = air_quality[\"station_london\"] * 1.882\n",
    "\n",
    "air_quality.head()"
   ]
  },
  {
   "cell_type": "markdown",
   "metadata": {},
   "source": [
    "41. Note that we do not need to iterate over all rows for a specific dataframe column to perform this calculation.\n",
    "\n",
    "42. `pandas` performs the calculation `element_wise`, that is on all of the values in the column at once.\n",
    "\n",
    "43. Let's say we wanted to calculate the ratio of the Paris versus Antwerp station values and store that result in a new column.\n",
    "\n",
    "44. We would need to calculate the ratio for each row and store the results of the calculation in a new column.\n",
    "\n",
    "<p align=\"center\"><a href=\"https://github.com/kwaldenphd/eda-pandas/blob/main/figures/Figure_3.svg?raw=true\"><img class=\"aligncenter\" src=\"https://github.com/kwaldenphd/eda-pandas/blob/main/figures/Figure_3.svg?raw=true\" /></a></p>\n",
    "\n",
    "45. To express those steps programatically in Python:"
   ]
  },
  {
   "cell_type": "code",
   "execution_count": null,
   "metadata": {},
   "outputs": [],
   "source": [
    "air_quality[\"ratio_paris_antwerp\"] = (air_quality[\"station_paris\"] / air_quality[\"station_antwerp\"])\n",
    "\n",
    "air_quality.head()"
   ]
  },
  {
   "cell_type": "markdown",
   "metadata": {},
   "source": [
    "46. Again, because this is an element-wise calculation, the division operation is applied to all rows in the data frame.\n",
    "\n",
    "47. Python's other mathematical (`+`, `-`, `*`, `/`) and logical (`<`, `>`, `=`, etc.) all work element-wise."
   ]
  },
  {
   "cell_type": "markdown",
   "metadata": {},
   "source": [
    "<blockquote>Q2: Describe element-wise calculation in your own words.</blockquote>"
   ]
  },
  {
   "cell_type": "markdown",
   "metadata": {},
   "source": [
    "<blockquote>Q3: Using the air quality data or another dataset, write code that generates a new column based on an existing column(s). Include code + comments.</blockquote>"
   ]
  },
  {
   "cell_type": "markdown",
   "metadata": {},
   "source": [
    "# Manipulating and Reshaping Data\n",
    "\n",
    "48. We've already covered how to sort or group by values in a dataframe.\n",
    "\n",
    "49. We can also perform more drastic data manipulations and transformations using `pandas`.\n",
    "\n",
    "## Working with Time Series Data\n",
    "\n",
    "50. Let's load another air quality dataset.\n",
    "- The `air_quality_no2_long.csv` file provies NO<sub>2</sub> values for three measurement stations."
   ]
  },
  {
   "cell_type": "code",
   "execution_count": null,
   "metadata": {},
   "outputs": [],
   "source": [
    "# import pandas\n",
    "import pandas as pd\n",
    "\n",
    "# load no2 observation data\n",
    "air_quality_no2 = pd.read_csv(\"https://raw.githubusercontent.com/kwaldenphd/eda-pandas/main/data/air_quality_long.csv\", parse_dates=True)\n",
    "\n",
    "# set column names\n",
    "air_quality_no2 = air_quality_no2[[\"date.utc\", \"location\", \"parameter\", \"value\"]]\n",
    "\n",
    "# make sure columns are renamed and no2 data is loaded\n",
    "display(air_quality_no2.head())"
   ]
  },
  {
   "cell_type": "markdown",
   "metadata": {},
   "source": [
    "51. At this point you may be wondering what exactly we are supposed to do with the convoluted string of numbers and characters in the `datetime` field for the `air_quality_no2_long` file.\n",
    "\n",
    "52. Let's first break down the information contained in this field.\n",
    "\n",
    "53. The data contained in the string for a single `datetime` value: `2019-06-21 00:00:00+00:00`\n",
    "\n",
    "- year (2019)\n",
    "- month (6)\n",
    "- day (21)\n",
    "- hour (00 before first colon)\n",
    "- minute (00 between two colons)\n",
    "- second (00 after second colon)\n",
    "- UTC offset, or time zone (00:00 after + symbol)\n",
    "\n",
    "54. We can imagine a number of different scenarios in which we would want to interact with this information as a time series object, rather than just a string of characters.\n",
    "\n",
    "55. Initially, `pandas` is treating the `datetime` field as a character string.\n",
    "\n",
    "56. We can use the `.to_datetime()` function to convert this field to a datetime object."
   ]
  },
  {
   "cell_type": "code",
   "execution_count": null,
   "metadata": {},
   "outputs": [],
   "source": [
    "air_quality_no2[\"datetime\"] = pd.to_datetime(air_quality_no2[\"date.utc\"])\n",
    "\n",
    "# check column data type\n",
    "air_quality_no2[\"datetime\"]"
   ]
  },
  {
   "cell_type": "markdown",
   "metadata": {},
   "source": [
    "57. Now that we have the `datatime` field as a datatime object, we can access a number of specialized commands."
   ]
  },
  {
   "cell_type": "code",
   "execution_count": null,
   "metadata": {},
   "outputs": [],
   "source": [
    "# identify start and end times for time series data\n",
    "air_quality_no2[\"datetime\"].min(), air_quality_no2[\"datetime\"].max()\n",
    "\n",
    "# calculate length of time series\n",
    "air_quality_no2[\"datetime\"].max() - air_quality_no2[\"datetime\"].min()"
   ]
  },
  {
   "cell_type": "markdown",
   "metadata": {},
   "source": [
    "58. If we know we are loading data with a datatime like field, we can specify how `pandas` should parse the datetime field in the newly-created data frame using `parse_dates`."
   ]
  },
  {
   "cell_type": "code",
   "execution_count": null,
   "metadata": {},
   "outputs": [],
   "source": [
    "pd.read_csv(\"https://raw.githubusercontent.com/kwaldenphd/eda-pandas/main/data/air_quality_long.csv\", parse_dates=[\"date.utc\"])"
   ]
  },
  {
   "cell_type": "markdown",
   "metadata": {},
   "source": [
    "59. For more on datatime objects and time series data in Python:\n",
    "- [`pandas` documentation on time related concepts](https://pandas.pydata.org/pandas-docs/stable/user_guide/timeseries.html)\n",
    "- [`pandas` documentation on timestamps](https://pandas.pydata.org/pandas-docs/stable/reference/api/pandas.Timestamp.html#pandas.Timestamp)\n",
    "- [Python documentation on datetime](https://docs.python.org/3/library/datetime.html)\n",
    "\n",
    "## `.pivot()`\n",
    "\n",
    "60. Let's look at an alternate structure for the `air_quality` data.\n",
    "\n",
    "61. In `air_quality_no2.csv`, each row is a unique `datetime` and there are distinct columns for each station location.\n",
    "\n",
    "62. By comparison, navigate to https://raw.githubusercontent.com/kwaldenphd/eda-pandas/main/air_quality_long.csv in a web browser.\n",
    "\n",
    "63. This dataset includes the following variables or columns:\n",
    "- `city`: city where the sensor is used, either Paris, Antwerp or London\n",
    "- `country`: country where the sensor is used, either FR, BE or GB\n",
    "- `location`: the id of the sensor, either FR04014, BETR801 or London Westminster\n",
    "- `parameter`: the parameter measured by the sensor, either <code>NO<sub>2</sub></code> or Particulate matter\n",
    "- `value`: the measured value\n",
    "- `unit`: the unit of the measured parameter, in this case ‘µg/m³’\n",
    "- `datetime`: the index for this DataFrame\n",
    "\n",
    "64. For this example, we only want the first two measurements for each location's <code>NO<sub>2</sub></code> data observations.\n",
    "\n",
    "65. Our first step is to select only the rows with <code>NO<sub>2</sub></code> observations.\n",
    "\n",
    "66. Then we need to group by station location and isolate the first two observations for each unique location.\n",
    "\n",
    "67. To express that programatically in Python:"
   ]
  },
  {
   "cell_type": "code",
   "execution_count": null,
   "metadata": {},
   "outputs": [],
   "source": [
    "# load data\n",
    "air_quality = pd.read_csv(\"https://raw.githubusercontent.com/kwaldenphd/eda-pandas/main/data/air_quality_long.csv\")\n",
    "\n",
    "# create subset with only no2 data\n",
    "no2 = air_quality[air_quality[\"parameter\"] == \"no2\"]\n",
    "\n",
    "# group by station locations\n",
    "no2_subset = no2.sort_index().groupby([\"location\"]).head(2)\n",
    "\n",
    "# verify the output for our no2_subset dataframe\n",
    "no2_subset"
   ]
  },
  {
   "cell_type": "markdown",
   "metadata": {},
   "source": [
    "68. Let's imagine we want the three station values for <code>NO<sub>2</sub></code> to appear as adjacent columns.\n",
    "\n",
    "<p align=\"center\"><a href=\"https://github.com/kwaldenphd/eda-pandas/blob/main/figures/Figure_4.svg?raw=true\"><img class=\"aligncenter\" src=\"https://github.com/kwaldenphd/eda-pandas/blob/main/figures/Figure_4.svg?raw=true\" /></a></p>\n",
    "\n",
    "69. We can accomplish this transformation using the `.pivot()` function."
   ]
  },
  {
   "cell_type": "code",
   "execution_count": null,
   "metadata": {},
   "outputs": [],
   "source": [
    "no2_subset.pivot(columns=\"location\", values=\"value\")"
   ]
  },
  {
   "cell_type": "markdown",
   "metadata": {},
   "source": [
    "70. In this example `.pivot()` is only reshaping the data--nothing about the underlying data values is changed.\n",
    "\n",
    "71. Another example of `.pivot()`:\n",
    "\n",
    "<p align=\"center\"><a href=\"https://github.com/kwaldenphd/eda-pandas/blob/main/figures/Figure_4.svg?raw=true\"><img class=\"aligncenter\" src=\"https://github.com/kwaldenphd/eda-pandas/blob/main/figures/Figure_4.svg?raw=true\" /></a></p>\n",
    "\n",
    "72. We create a new data frame in which the unique values in `foo` our row index, and the `bar` categories our columns."
   ]
  },
  {
   "cell_type": "raw",
   "metadata": {},
   "source": [
    "new_data_frame = old_data_frame.pivot(index=\"foo\", columns=\"bar\", values=\"baz\")"
   ]
  },
  {
   "cell_type": "markdown",
   "metadata": {},
   "source": [
    "73. Consult the `pandas` documentation [\"Pivoting DataFrame objects\"](https://pandas.pydata.org/pandas-docs/stable/user_guide/reshaping.html#reshaping-reshaping) for more on this function.\n",
    "\n",
    "## `.melt()`\n",
    "\n",
    "74. We can also reshape data using `.melt()`, which is helpful when we need to make column names a unique field value.\n",
    "\n",
    "75. `.melt()` is the inverse of `.pivot()`-- it transforms wide tables into long tables. \n",
    "\n",
    "76. We'll use an example data frame that has height and weight information for two individuals.\n",
    "\n",
    "<p align=\"center\"><a href=\"https://github.com/kwaldenphd/eda-pandas/blob/main/figures/Figure_8.png?raw=true\"><img class=\"aligncenter\" src=\"https://github.com/kwaldenphd/eda-pandas/blob/main/figures/Figure_8.png?raw=true\" /></a></p>\n",
    "\n",
    "77. In this example, we might want to be able to isolate height and weight in ways that the original data structure will not let us.\n",
    "\n",
    "78. We want to isolate some of our columns as identifier variables and have other columns be measured variables.\n",
    "\n",
    "79. We can use `.melt()` to transform this data so each row is a unique observation."
   ]
  },
  {
   "cell_type": "raw",
   "metadata": {},
   "source": [
    "old_data_frame.melt(id_vars=['first_identifier_variable_column', 'second_identifier_variable_column'])"
   ]
  },
  {
   "cell_type": "markdown",
   "metadata": {},
   "source": [
    "80. We could also rename this newly-created identifier variable column:"
   ]
  },
  {
   "cell_type": "raw",
   "metadata": {},
   "source": [
    "old_data_frame.melt(id_vars=['first_identifier_variable_column', 'second_identifier_variable_column'], var_name=\"new_identifier_variable_column_name\")"
   ]
  },
  {
   "cell_type": "markdown",
   "metadata": {},
   "source": [
    "81. Applying this to our air quality data, we can take the wide table format created by `.pivot()` and transform it back into a long data format using `.melt()`."
   ]
  },
  {
   "cell_type": "code",
   "execution_count": null,
   "metadata": {},
   "outputs": [],
   "source": [
    "# create wide data format\n",
    "no2_pivoted = no2.pivot(columns=\"location\", values=\"value\").reset_index()\n",
    "\n",
    "# verify wide data\n",
    "no2_pivoted.head()"
   ]
  },
  {
   "cell_type": "markdown",
   "metadata": {},
   "source": [
    "82. We can transform our pivoted wide data back into a long data format using `.melt()`."
   ]
  },
  {
   "cell_type": "raw",
   "metadata": {},
   "source": [
    "no_2 = no2_pivoted.melt(id_vars=\"date.utc\")\n",
    "\n",
    "no_2.head()"
   ]
  },
  {
   "cell_type": "markdown",
   "metadata": {},
   "source": [
    "83. In this example, the column headers become variable names in a newly-created column.\n",
    "\n",
    "84. Consult the `pandas` documentation [\"Reshaping by melt\"](https://pandas.pydata.org/pandas-docs/stable/user_guide/reshaping.html#reshaping-melt) for more details on using this function.\n",
    "\n",
    "## `.pivot_table()`\n",
    "\n",
    "85. In some cases, we might want to create a new table with calculations derived from an original data frame.\n",
    "\n",
    "86. For example, let's say we want the concentrations for <code>NO<sub>2</sub></code> and <code>PM<sub>2.5</sub></code> for each station stored as a table.\n",
    "\n",
    "<p align=\"center\"><a href=\"https://github.com/kwaldenphd/eda-pandas/blob/main/figures/Figure_9.svg?raw=true\"><img class=\"aligncenter\" src=\"https://github.com/kwaldenphd/eda-pandas/blob/main/figures/Figure_9.svg?raw=true\" /></a></p>\n",
    "\n",
    "87. We can create a pivot table that is based on the underlying dataframe to display these aggregate calculations.\n",
    "\n",
    "88. We need to specify the values, index, columns, and aggregate function we are using to create the pivot table.\n",
    "\n",
    "89. To express this programatically in Python:"
   ]
  },
  {
   "cell_type": "code",
   "execution_count": null,
   "metadata": {},
   "outputs": [],
   "source": [
    "air_quality.pivot_table(values=\"value\", index=\"location\", columns=\"parameter\", aggfunc=\"mean\")"
   ]
  },
  {
   "cell_type": "markdown",
   "metadata": {},
   "source": [
    "90. We could also use `.groupby()` and `.mean()` to generate the same output."
   ]
  },
  {
   "cell_type": "code",
   "execution_count": null,
   "metadata": {},
   "outputs": [],
   "source": [
    "air_quality.groupby([\"parameter\", \"location\"]).mean()"
   ]
  },
  {
   "cell_type": "markdown",
   "metadata": {},
   "source": [
    "<blockquote>Consult the `pandas` <a href=\"https://pandas.pydata.org/pandas-docs/stable/user_guide/reshaping.html#reshaping-pivot\">documentation on pivot tables</a> to learn more about this function.</blockquote>\n",
    "\n",
    "## `.stack()` and `.unstack()`\n",
    "\n",
    "91. We can also reshape data using `.stack()` and `.unstack()`.\n",
    "\n",
    "92. In these examples, our data frame has multiple indeces, or a hierarchical multi-index.\n",
    "\n",
    "93. We might want to reconfigure how Python handles the hierarchical labels.\n",
    "\n",
    "94. We can do this using `.stack()` and `.unstack()`.\n",
    "\n",
    "<p align=\"center\"><a href=\"https://github.com/kwaldenphd/eda-pandas/blob/main/figures/Figure_6.png?raw=true\"><img class=\"aligncenter\" src=\"https://github.com/kwaldenphd/eda-pandas/blob/main/figures/Figure_6.png?raw=true\" /></a></p>\n",
    "\n",
    "95. To reshape this data using `.stack()`:"
   ]
  },
  {
   "cell_type": "raw",
   "metadata": {},
   "source": [
    "stacked_data_frame.unstack()"
   ]
  },
  {
   "cell_type": "markdown",
   "metadata": {},
   "source": [
    "96. `.unstack()` is the inverse operation of `.stack()`.\n",
    "\n",
    "<p align=\"center\"><a href=\"https://github.com/kwaldenphd/eda-pandas/blob/main/figures/Figure_7.png?raw=true\"><img class=\"aligncenter\" src=\"https://github.com/kwaldenphd/eda-pandas/blob/main/figures/Figure_7.png?raw=true\" /></a></p>\n",
    "\n",
    "97. To reshape this data using `.unstack()`:"
   ]
  },
  {
   "cell_type": "raw",
   "metadata": {},
   "source": [
    "unstacked_data_frame.stack()"
   ]
  },
  {
   "cell_type": "markdown",
   "metadata": {},
   "source": [
    "<blockquote>Q4: In your own words, provide a brief description/explanation for each function: .pivot(), .melt(), .pivot_table(), .stack(), and .unstack().</blockquote>"
   ]
  },
  {
   "cell_type": "markdown",
   "metadata": {},
   "source": [
    "<blockquote>Q5: Write sample code for each of these functions. Include code + comments.</blockquote>"
   ]
  },
  {
   "cell_type": "markdown",
   "metadata": {},
   "source": [
    "<blockquote>Q6: Describe how you are thinking about needing to use these functions in relation to data you're interested in working with as part of the final project.</blockquote>"
   ]
  },
  {
   "cell_type": "markdown",
   "metadata": {},
   "source": [
    "# Combining Data\n",
    "\n",
    "98. The SQL queries and joins lab covered how we can use joins in a relational database system to create new data structures.\n",
    "\n",
    "99. `pandas` has somewhat similar functionality that allows you to merge and combine data from multiple tables.\n",
    "\n",
    "100. `pandas.merge` connects rows in DataFrames based on one or more key fields. This is similar to SQL JOIN operations.\n",
    "\n",
    "101. `pandas.concat` concatenates or \"stacks\" objects together along an axis.\n",
    "\n",
    "102. `combine_first` allows you to splice overlapping data to fill in missing values.\n",
    "\n",
    "103. Let's load more new air quality datasets.\n",
    "- The `air_quality_no2_long.csv` file provies NO<sub>2</sub> values for three measurement stations.\n",
    "- The `air_quality_pm25_long.csv` file provides PM<sub>25</sub> values (particulate matter less than 2.5 micrometers) for the same three measurement stations.\n",
    "- The `air_quality_stations.csv` file provides latitude and longitude coordinates for five different measurement stations.\n",
    "- The `air_quality_parameters.csv` file provides parameter full description and name for five different element types.\n",
    "\n",
    "104. To load these datasets:"
   ]
  },
  {
   "cell_type": "code",
   "execution_count": null,
   "metadata": {},
   "outputs": [],
   "source": [
    "# load no2 observation data\n",
    "air_quality_no2 = pd.read_csv(\"https://raw.githubusercontent.com/kwaldenphd/eda-pandas/main/data/air_quality_long.csv\", parse_dates=True)\n",
    "\n",
    "# set column names\n",
    "air_quality_no2 = air_quality_no2[[\"date.utc\", \"location\", \"parameter\", \"value\"]]\n",
    "\n",
    "# make sure columns are renamed and no2 data is loaded\n",
    "air_quality_no2.head()\n",
    "\n",
    "# load pm25 data\n",
    "air_quality_pm25 = pd.read_csv(\"https://raw.githubusercontent.com/kwaldenphd/eda-pandas/main/data/air_quality_pm25_long.csv\", parse_dates=True)\n",
    "\n",
    "# rename columns\n",
    "air_quality_pm25 = air_quality_pm25[[\"date.utc\", \"location\", \"parameter\", \"value\"]]\n",
    "\n",
    "# make sure columns are renamed and pm25 data is loaded\n",
    "air_quality_pm25.head()\n",
    "\n",
    "# load coordinates data\n",
    "stations_coord = pd.read_csv(\"https://raw.githubusercontent.com/kwaldenphd/eda-pandas/main/data/air_quality_stations.csv\")\n",
    "\n",
    "# make sure coordinate data is loaded\n",
    "stations_coord.head()\n",
    "\n",
    "# load parameter data\n",
    "air_quality_parameters = pd.read_csv(\"https://raw.githubusercontent.com/kwaldenphd/eda-pandas/main/data/air_quality_parameters.csv\")\n",
    "\n",
    "# make sure parameter data is loaded\n",
    "air_quality_parameters.head()"
   ]
  },
  {
   "cell_type": "markdown",
   "metadata": {},
   "source": [
    "## `.concat()`\n",
    "\n",
    "105. Let's say we want to combine the NO<sub>2</sub> and PM<sub>25</sub> measurements in a single table.\n",
    "\n",
    "106. Since the two original tables have a similar strucure, we can perform a concatenation operation on multiple tables using one of the axes.\n",
    "\n",
    "<p align=\"center\"><a href=\"https://github.com/kwaldenphd/eda-pandas/blob/main/figures/Figure_10.svg?raw=true\"><img class=\"aligncenter\" src=\"https://github.com/kwaldenphd/eda-pandas/blob/main/figures/Figure_10.svg?raw=true\" /></a></p>\n",
    "\n",
    "107. We can do this using the `.contact()` function."
   ]
  },
  {
   "cell_type": "code",
   "execution_count": null,
   "metadata": {},
   "outputs": [],
   "source": [
    "air_quality = pd.concat([air_quality_pm25, air_quality_no2], axis=0)\n",
    "\n",
    "air_quality.head()"
   ]
  },
  {
   "cell_type": "markdown",
   "metadata": {},
   "source": [
    "108. The default for `.concat()` is axis 0, so the resulting table combines the input table rows.\n",
    "\n",
    "109. Remember in a `pandas` dataframe axis `0` is vertical (rows) and axis `1` is horizontal (columns).\n",
    "\n",
    "110. We can verify the concatenation operation worked by checking the same of each original table and the concatenated table."
   ]
  },
  {
   "cell_type": "code",
   "execution_count": null,
   "metadata": {},
   "outputs": [],
   "source": [
    "print('Shape of the ``air_quality_pm25`` table: ', air_quality_pm25.shape)\n",
    "\n",
    "print('Shape of the ``air_quality_no2`` table: ', air_quality_no2.shape)\n",
    "\n",
    "print('Shape of the resulting ``air_quality`` table: ', air_quality.shape)"
   ]
  },
  {
   "cell_type": "markdown",
   "metadata": {},
   "source": [
    "111. Some fast math tells us that 1110 + 2068 is 3178, the number of rows in the combined table.\n",
    "\n",
    "112. We can sort the new table to see the combined data."
   ]
  },
  {
   "cell_type": "code",
   "execution_count": null,
   "metadata": {},
   "outputs": [],
   "source": [
    "air_quality = air_quality.sort_values(\"date.utc\")\n",
    "\n",
    "air_quality.head()"
   ]
  },
  {
   "cell_type": "markdown",
   "metadata": {},
   "source": [
    "113. The data sorted by `data.utc` shows observations for both NO<sub>2</sub> and PM<sub>25</sub>.\n",
    "\n",
    "114. In this example, the resulting values in the `parameter` column make it easy to see what data came from each original table.\n",
    "\n",
    "115. In a situation where we don't have something like the `parameter` column, we can add an additional row index can help identify the data source."
   ]
  },
  {
   "cell_type": "code",
   "execution_count": null,
   "metadata": {},
   "outputs": [],
   "source": [
    "air_quality_ = pd.concat([air_quality_pm25, air_quality_no2], keys=[\"PM25\", \"NO2\"])\n",
    "\n",
    "air_quality_.head()"
   ]
  },
  {
   "cell_type": "markdown",
   "metadata": {},
   "source": [
    "116. By giving a `keys` argument to the `.concat()` function, we create a hierarchical index or a MultiIndex.\n",
    "\n",
    "117. We encountered MultiIndex previously when looking at `.stack()` and `.unstack()`.\n",
    "\n",
    "118. Consult the `pandas` [documentation on object concatenation](https://pandas.pydata.org/pandas-docs/stable/user_guide/merging.html#merging-concat) for more on this function.\n",
    "\n",
    "## `.merge()`\n",
    "\n",
    "119. We can also join table using a common identifier with `.merge()`.\n",
    "\n",
    "120. Let's say we wanted to add station location coordinates to corresponding rows in the measurements table.\n",
    "\n",
    "121. We have this data loaded as `stations_coord`.\n",
    "\n",
    "<p align=\"center\"><a href=\"https://github.com/kwaldenphd/eda-pandas/blob/main/figures/Figure_11.svg?raw=true\"><img class=\"aligncenter\" src=\"https://github.com/kwaldenphd/eda-pandas/blob/main/figures/Figure_11.svg?raw=true\" /></a></p>\n",
    "\n",
    "122. We can merge the `stations_coord` and `air_quality` data frames based on a common field, `location`.\n",
    "\n",
    "123. To express this programatically in Python"
   ]
  },
  {
   "cell_type": "code",
   "execution_count": null,
   "metadata": {},
   "outputs": [],
   "source": [
    "air_quality = pd.merge(air_quality, stations_coord, how=\"left\", on=\"location\")\n",
    "\n",
    "air_quality.head()"
   ]
  },
  {
   "cell_type": "markdown",
   "metadata": {},
   "source": [
    "124. You might notice some similarities with SQL join syntax, in that we're are specifying the origin and target tables, the type of join, and the key field.\n",
    "\n",
    "125. Specifying a left join means only locations in the original `air_quality` dataframe will be retained.\n",
    "\n",
    "126. Let's say we want to add the parameter full description and name to the measurements table.\n",
    "\n",
    "127. We already have the parameter data loaded in the `air_quality_parameters` dataframe.\n",
    "\n",
    "128. In this example, there is no common column name.\n",
    "\n",
    "129. However, we can `parameter` column in the `air_quality` data frame has a common format with the `id` column in the `air_quality_parameters` datarame.\n",
    "\n",
    "130. We can use the `left_on` and `right_on` arguments to specify the fields to join on."
   ]
  },
  {
   "cell_type": "code",
   "execution_count": null,
   "metadata": {},
   "outputs": [],
   "source": [
    "air_quality = pd.merge(air_quality, air_quality_parameters, how='left', left_on='parameter', right_on='id')\n",
    "\n",
    "air_quality.head()"
   ]
  },
  {
   "cell_type": "markdown",
   "metadata": {},
   "source": [
    "131. For more on different join/merge types:\n",
    "- [database style merging `pandas` documentation](https://pandas.pydata.org/pandas-docs/stable/user_guide/merging.html#merging-join)\n",
    "- [SQL comparison page in `pandas` documentation](https://pandas.pydata.org/pandas-docs/stable/getting_started/comparison/comparison_with_sql.html#compare-with-sql-join)\n",
    "\n",
    "132. Our key takeaways from this section:\n",
    "- Mutliple tables can be concatenated row-rise or column-wise using the `.concat()` function\n",
    "- SQL-style joins can be accomplished using `.merge()`"
   ]
  },
  {
   "cell_type": "markdown",
   "metadata": {},
   "source": [
    "<blockquote>Q7: In your own words, provide a description for .concat() and .merge(). What do these functions do? How are they different?</blockquote>"
   ]
  },
  {
   "cell_type": "markdown",
   "metadata": {},
   "source": [
    "<blockquote>Q8: Write sample code for both functions. Include code + comments.</blockquote>"
   ]
  },
  {
   "cell_type": "markdown",
   "metadata": {},
   "source": [
    "<blockquote>Q9: Describe how you are thinking about needing to use these functions for the data you plan to work with in the final project.</blockquote>"
   ]
  },
  {
   "cell_type": "markdown",
   "metadata": {},
   "source": [
    "# Renaming, Mapping, and Reindexing\n",
    "\n",
    "133. As a result or as part of data wrangling operations, you may need to rename columns or renumber the rows in a dataframe.\n",
    "\n",
    "## Renaming Columns\n",
    "\n",
    "134. We can use `.rename()` to rename columns in a dataframe.\n",
    "\n",
    "135. We use a dictionary's key-value pairs to specify the new name for an existing column.\n",
    "\n",
    "136. To do this in place and change the names in an existing dataframe:"
   ]
  },
  {
   "cell_type": "raw",
   "metadata": {},
   "source": [
    "data_frame.rename(columns={\"old_name_1\": \"new_name_1\", \"old_name_2\": \"new_name_2\", \"old_name_3\": \"new_name_3\"})\n",
    "\n",
    "data_frame.head()"
   ]
  },
  {
   "cell_type": "markdown",
   "metadata": {},
   "source": [
    "137. We can also create a new dataframe with the renamed columns."
   ]
  },
  {
   "cell_type": "raw",
   "metadata": {},
   "source": [
    "new_data_frame = old_data_frame.rename(columns={\"old_name_1\": \"new_name_1\", \"old_name_2\": \"new_name_2\", \"old_name_3\": \"new_name_3\"})\n",
    "\n",
    "new_data_frame.head()"
   ]
  },
  {
   "cell_type": "markdown",
   "metadata": {},
   "source": [
    "138. We can also standardize axis labels using `str` case methods (`upper`, `lower`, `title`, etc.)"
   ]
  },
  {
   "cell_type": "raw",
   "metadata": {},
   "source": [
    "# relabel index labels to upper case version of existing labels\n",
    "data_frame.rename(str.upper)\n",
    "\n",
    "# relabel index labels to lower case version of existing labels\n",
    "data_frame.rename(str.lower)"
   ]
  },
  {
   "cell_type": "markdown",
   "metadata": {},
   "source": [
    "139. We can also rename row index labels usign `.rename()`."
   ]
  },
  {
   "cell_type": "raw",
   "metadata": {},
   "source": [
    "data_frame.rename({\"old_row_1\": \"new_row_1\", \"old_row_2\": \"new_row_2\", \"old_row_3\": \"new_row_3\"}, axis=\"index\")"
   ]
  },
  {
   "cell_type": "markdown",
   "metadata": {},
   "source": [
    "140. In the `data_frame.rename()` examples, the `.rename()` method is applied to a copy of the data--the underlying data is not changed.\n",
    "\n",
    "141. To alter the underlying data, we would set the `inplace` parameter to `True`."
   ]
  },
  {
   "cell_type": "raw",
   "metadata": {},
   "source": [
    "data_frame.rename(RENAMING OPERATION, inplace=True)"
   ]
  },
  {
   "cell_type": "markdown",
   "metadata": {},
   "source": [
    "142. For more on renaming functions, consult the `pandas` documentation for [`pandas.DataFrame.rename`](https://pandas.pydata.org/pandas-docs/stable/reference/api/pandas.DataFrame.rename.html#pandas.DataFrame.rename).\n",
    "\n",
    "143. We can also imagine a scenario in which you have sliced or filtered the data and now have row index labels that no longer make sense.\n",
    "\n",
    "144. For example, if your original rows had sequential numerical index labels, the transformed data will retain the original index labels.\n",
    "\n",
    "145. In these situations, we can reset the index to a simple ascending integer index using `.reset_index()`."
   ]
  },
  {
   "cell_type": "raw",
   "metadata": {},
   "source": [
    "data_frame.reset_index()"
   ]
  },
  {
   "cell_type": "markdown",
   "metadata": {},
   "source": [
    "146. For more on indexing, consult `pandas` [\"Different choices for indexing\"](https://pandas.pydata.org/pandas-docs/stable/user_guide/indexing.html?highlight=reindex#different-choices-for-indexing) documentation.\n",
    "\n",
    "# Practice Problems\n",
    "\n",
    "147. No practice problems. Spend this time working on the final project.\n",
    "\n",
    "# Lab Notebook Questions\n",
    "\n",
    "Q1: Using the titanic dataset (or another dataset), write code that calculates at least 3 unique summary statistics (.agg() counts as one). Include code + comments for each.\n",
    "\n",
    "Q2: Describe element-wise calculation in your own words.\n",
    "\n",
    "Q3: Using the air quality data or another dataset, write code that generates a new column based on an existing column(s). Include code + comments.\n",
    "\n",
    "Q4: In your own words, provide a brief description/explanation for each function: .pivot(), .melt(), .pivot_table(), .stack(), and .unstack().\n",
    "\n",
    "Q5: Write sample code for each of these functions. Include code + comments.\n",
    "\n",
    "Q6: Describe how you are thinking about needing to use these functions in relation to data you're interested in working with as part of the final project.\n",
    "\n",
    "Q7: In your own words, provide a description for .concat() and .merge(). What do these functions do? How are they different?\n",
    "\n",
    "Q8: Write sample code for both functions. Include code + comments.\n",
    "\n",
    "Q9: Describe how you are thinking about needing to use these functions for the data you plan to work with in the final project."
   ]
  }
 ],
 "metadata": {
  "kernelspec": {
   "display_name": "Python 3",
   "language": "python",
   "name": "python3"
  },
  "language_info": {
   "codemirror_mode": {
    "name": "ipython",
    "version": 3
   },
   "file_extension": ".py",
   "mimetype": "text/x-python",
   "name": "python",
   "nbconvert_exporter": "python",
   "pygments_lexer": "ipython3",
   "version": "3.8.5"
  }
 },
 "nbformat": 4,
 "nbformat_minor": 4
}
