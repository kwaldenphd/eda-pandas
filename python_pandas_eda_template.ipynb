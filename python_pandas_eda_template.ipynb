{
  "cells": [
    {
      "cell_type": "markdown",
      "metadata": {
        "id": "view-in-github",
        "colab_type": "text"
      },
      "source": [
        "<a href=\"https://colab.research.google.com/github/kwaldenphd/eda-pandas/blob/main/python_pandas_eda_template.ipynb\" target=\"_parent\"><img src=\"https://colab.research.google.com/assets/colab-badge.svg\" alt=\"Open In Colab\"/></a>"
      ]
    },
    {
      "cell_type": "markdown",
      "metadata": {
        "id": "N8OoGQJ8VSM4"
      },
      "source": [
        "# Data Wrangling in Pandas"
      ]
    },
    {
      "cell_type": "markdown",
      "metadata": {
        "id": "wIzraLJGVSM9"
      },
      "source": [
        "Student Name: **Enter Your Name Here (Double click to edit)**\n",
        "<br>\n",
        "Net ID: **Enter Your NetID Here (Double click to edit)**\n",
        "<br>"
      ]
    },
    {
      "cell_type": "markdown",
      "metadata": {
        "id": "a5vETjkvVSM_"
      },
      "source": [
        "## **Q1: Using the titanic dataset (or another dataset), write code that calculates at least 3 unique summary statistics. Include code + comments for each.**"
      ]
    },
    {
      "cell_type": "markdown",
      "metadata": {
        "id": "KjVgnlPYVSNB"
      },
      "source": [
        "**AnswerQ1**: Your answer here (double click to edit)"
      ]
    },
    {
      "cell_type": "code",
      "execution_count": null,
      "metadata": {
        "id": "2XHTA2tzVSNE"
      },
      "outputs": [],
      "source": [
        "# code for first summary statistic "
      ]
    },
    {
      "cell_type": "code",
      "execution_count": null,
      "metadata": {
        "id": "eqaDgNaHVgj7"
      },
      "outputs": [],
      "source": [
        "# code for second summary statistic "
      ]
    },
    {
      "cell_type": "code",
      "execution_count": null,
      "metadata": {
        "id": "RX-KbxdMVgsA"
      },
      "outputs": [],
      "source": [
        "# code for third summary statistic "
      ]
    },
    {
      "cell_type": "markdown",
      "metadata": {
        "id": "BG-xRN-YVSNJ"
      },
      "source": [
        "## **Q2: Describe element-wise calculation in your own words. Code is NOT required for this question.**"
      ]
    },
    {
      "cell_type": "markdown",
      "metadata": {
        "id": "GuML9AxfVSNN"
      },
      "source": [
        "**AnswerQ2**: Your answer here (double click to edit)"
      ]
    },
    {
      "cell_type": "code",
      "execution_count": null,
      "metadata": {
        "id": "RUvDIKplVSNS"
      },
      "outputs": [],
      "source": [
        "# your codes here (if needed)"
      ]
    },
    {
      "cell_type": "markdown",
      "metadata": {
        "id": "DBmgGuelVSNa"
      },
      "source": [
        "## **Q3: Using the air quality data or another dataset, write code that generates a new column based on an existing column(s). Include code + comments.**"
      ]
    },
    {
      "cell_type": "markdown",
      "metadata": {
        "id": "e5Ce4-hfVSNe"
      },
      "source": [
        "**AnswerQ3**: Your answer here (double click to edit)"
      ]
    },
    {
      "cell_type": "code",
      "execution_count": null,
      "metadata": {
        "id": "U07SH5eHVSNg"
      },
      "outputs": [],
      "source": [
        "# space for Q3 codes"
      ]
    },
    {
      "cell_type": "markdown",
      "metadata": {
        "id": "PTQEsr-jVSNh"
      },
      "source": [
        "## <strong>Q4: In your own words, provide a brief description/explanation for each function. Code is NOT required for this question. \n",
        "  * `.pivot()`\n",
        "  * `.melt()`\n",
        "  * `.pivot_table()`\n",
        "  * `.stack()`\n",
        "  * `.unstack`</strong>"
      ]
    },
    {
      "cell_type": "markdown",
      "metadata": {
        "id": "6Tz_KqYIVSNj"
      },
      "source": [
        "**AnswerQ4**: Your answer here (double click to edit)\n",
        "\n",
        "<b>`.pivot()`</b>\n",
        "- DESCRIPTION/EXPLANATION\n",
        "\n",
        "<b>`.melt()`</b>\n",
        "- DESCRIPTION/EXPLANATION\n",
        "\n",
        "<b>`.pivot_table()`</b>\n",
        "- DESCRIPTION/EXPLANATION\n",
        "\n",
        "<b>`.stack()`</b>\n",
        "- DESCRIPTION/EXPLANATION\n",
        "\n",
        "<b>`.unstack()`</b>\n",
        "- DESCRIPTION/EXPLANATION"
      ]
    },
    {
      "cell_type": "code",
      "execution_count": null,
      "metadata": {
        "id": "7VKdRQsWVSNk"
      },
      "outputs": [],
      "source": [
        "# your codes here (if needed)"
      ]
    },
    {
      "cell_type": "markdown",
      "metadata": {
        "id": "b9q8mYFnVSNm"
      },
      "source": [
        "## <strong>Q5: Write code for .pivot(), .melt(), and .pivot_table() using the air quality datasets or another dataset of your choosing. Include code + comments.</strong>"
      ]
    },
    {
      "cell_type": "markdown",
      "metadata": {
        "id": "xydIyKQaVSNo"
      },
      "source": [
        "**AnswerQ5**: Your answer here (double click to edit)"
      ]
    },
    {
      "cell_type": "code",
      "execution_count": null,
      "metadata": {
        "id": "PICpM4DNVSNq"
      },
      "outputs": [],
      "source": [
        "# code for .pivot()"
      ]
    },
    {
      "cell_type": "code",
      "execution_count": null,
      "metadata": {
        "id": "OG4XuVY6V8h4"
      },
      "outputs": [],
      "source": [
        "# code for .melt()"
      ]
    },
    {
      "cell_type": "code",
      "source": [
        "# code for .pivot_table()"
      ],
      "metadata": {
        "id": "-vChyPFjhCsW"
      },
      "execution_count": null,
      "outputs": []
    },
    {
      "cell_type": "markdown",
      "metadata": {
        "id": "Kn_DkfvZVSNr"
      },
      "source": [
        "## **Q6: Describe how you are thinking about needing to use the `.pivot()`, `.melt()`, `.pivot_table()`, `.stack()` or `.unstack` functions in relation to data you're interested in working with as part of the final project. Code is NOT required for this question.**"
      ]
    },
    {
      "cell_type": "markdown",
      "metadata": {
        "id": "MbbXi4xfVSNr"
      },
      "source": [
        "**AnswerQ6**: Your answer here (double click to edit)"
      ]
    },
    {
      "cell_type": "code",
      "execution_count": null,
      "metadata": {
        "id": "OQjpYHXzVSNt"
      },
      "outputs": [],
      "source": [
        "# your codes here (if needed)"
      ]
    },
    {
      "cell_type": "markdown",
      "metadata": {
        "id": "PdUAeN-mVSNu"
      },
      "source": [
        "## **Q7: In your own words, provide a description for the `.concat()` and `.merge()` functions. What do these functions do? How are they different? Code is NOT required for this question.**"
      ]
    },
    {
      "cell_type": "markdown",
      "metadata": {
        "id": "3OVuqlL4VSNu"
      },
      "source": [
        "**AnswerQ7**: Your answer here (double click to edit)\n",
        "\n",
        "<b>`.concat()`</b>\n",
        "- DESCRIPTION/EXPLANATION\n",
        "\n",
        "<b>`.merge()`</b>\n",
        "- DESCRIPTION/EXPLANATION"
      ]
    },
    {
      "cell_type": "code",
      "execution_count": null,
      "metadata": {
        "id": "nfgjT1XlVSNw"
      },
      "outputs": [],
      "source": [
        "# your codes here (if needed)"
      ]
    },
    {
      "cell_type": "markdown",
      "metadata": {
        "id": "tvFxGWPTVSNx"
      },
      "source": [
        "## <strong>Q8: Write sample code for both the `.concat()` and `.merge()` functions. Include code + comments.\n",
        "  * You **do not** need to write code that actually loads an existing data file. That is, the lab does not provide data files that include these structures/attributes.\n",
        "  * Write **sample code** that shows the syntax you would use to load a file with the structures/attributes described in the question.</strong>"
      ]
    },
    {
      "cell_type": "markdown",
      "metadata": {
        "id": "VPlyy03JVSNy"
      },
      "source": [
        "**AnswerQ8**: Your answer here (double click to edit)"
      ]
    },
    {
      "cell_type": "code",
      "execution_count": null,
      "metadata": {
        "id": "27BYkjcEVSNy"
      },
      "outputs": [],
      "source": [
        "# space for contcat code"
      ]
    },
    {
      "cell_type": "code",
      "execution_count": null,
      "metadata": {
        "id": "xXxAg3kVWY2n"
      },
      "outputs": [],
      "source": [
        "# space for merge code"
      ]
    },
    {
      "cell_type": "markdown",
      "metadata": {
        "id": "vuFvR0EMVSNz"
      },
      "source": [
        "## **Q9: Describe how you are thinking about needing to use the `.concat()` or `.merge()` functions with the data you plan to work with in the final project. Code is NOT required for this question.**"
      ]
    },
    {
      "cell_type": "markdown",
      "metadata": {
        "id": "pdIZcJPlVSNz"
      },
      "source": [
        "**AnswerQ9**: Your answer here (double click to edit)"
      ]
    },
    {
      "cell_type": "code",
      "execution_count": null,
      "metadata": {
        "id": "IGukdpHyVSN0"
      },
      "outputs": [],
      "source": [
        "# your codes here (if needed)"
      ]
    }
  ],
  "metadata": {
    "kernelspec": {
      "display_name": "Python 3",
      "language": "python",
      "name": "python3"
    },
    "language_info": {
      "codemirror_mode": {
        "name": "ipython",
        "version": 3
      },
      "file_extension": ".py",
      "mimetype": "text/x-python",
      "name": "python",
      "nbconvert_exporter": "python",
      "pygments_lexer": "ipython3",
      "version": "3.8.8"
    },
    "colab": {
      "provenance": [],
      "toc_visible": true,
      "include_colab_link": true
    }
  },
  "nbformat": 4,
  "nbformat_minor": 0
}